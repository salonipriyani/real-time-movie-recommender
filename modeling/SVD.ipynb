{
 "cells": [
  {
   "cell_type": "markdown",
   "id": "bea1fb13",
   "metadata": {},
   "source": [
    "# Install Package"
   ]
  },
  {
   "cell_type": "code",
   "execution_count": 1,
   "id": "75f2e367",
   "metadata": {},
   "outputs": [
    {
     "name": "stdout",
     "output_type": "stream",
     "text": [
      "Collecting scikit-surprise\n",
      "  Downloading scikit-surprise-1.1.3.tar.gz (771 kB)\n",
      "\u001b[K     |████████████████████████████████| 771 kB 5.5 MB/s eta 0:00:01\n",
      "\u001b[?25hRequirement already satisfied: joblib>=1.0.0 in ./.local/lib/python3.8/site-packages (from scikit-surprise) (1.2.0)\n",
      "Requirement already satisfied: numpy>=1.17.3 in ./.local/lib/python3.8/site-packages (from scikit-surprise) (1.24.2)\n",
      "Requirement already satisfied: scipy>=1.3.2 in ./.local/lib/python3.8/site-packages (from scikit-surprise) (1.10.0)\n",
      "Building wheels for collected packages: scikit-surprise\n",
      "  Building wheel for scikit-surprise (setup.py) ... \u001b[?25ldone\n",
      "\u001b[?25h  Created wheel for scikit-surprise: filename=scikit_surprise-1.1.3-cp38-cp38-linux_x86_64.whl size=3367027 sha256=135636584a41b316571987786bce128689108af11f4e614ae629ca45c741c23b\n",
      "  Stored in directory: /home/team12/.cache/pip/wheels/af/db/86/2c18183a80ba05da35bf0fb7417aac5cddbd93bcb1b92fd3ea\n",
      "Successfully built scikit-surprise\n",
      "Installing collected packages: scikit-surprise\n",
      "\u001b[33m  WARNING: The script surprise is installed in '/home/team12/.local/bin' which is not on PATH.\n",
      "  Consider adding this directory to PATH or, if you prefer to suppress this warning, use --no-warn-script-location.\u001b[0m\n",
      "Successfully installed scikit-surprise-1.1.3\n"
     ]
    }
   ],
   "source": [
    "!pip install scikit-surprise"
   ]
  },
  {
   "cell_type": "markdown",
   "id": "dd7a84ad",
   "metadata": {},
   "source": [
    "# Import Packages"
   ]
  },
  {
   "cell_type": "code",
   "execution_count": 1,
   "id": "41131b33",
   "metadata": {},
   "outputs": [],
   "source": [
    "from surprise import Dataset\n",
    "import numpy as np\n",
    "import pandas as pd\n",
    "from surprise import Reader\n",
    "from surprise import SVD\n",
    "from surprise.model_selection import GridSearchCV"
   ]
  },
  {
   "cell_type": "markdown",
   "id": "e3b89ded",
   "metadata": {},
   "source": [
    "# Dataset"
   ]
  },
  {
   "cell_type": "code",
   "execution_count": 2,
   "id": "3327a8f0",
   "metadata": {},
   "outputs": [],
   "source": [
    "df = pd.read_csv(\"/home/rwilson2/data/ratings.csv\")[[\"user_id\",\"movie\",\"rating\"]]"
   ]
  },
  {
   "cell_type": "code",
   "execution_count": 3,
   "id": "d6628089",
   "metadata": {},
   "outputs": [
    {
     "name": "stdout",
     "output_type": "stream",
     "text": [
      "<class 'pandas.core.frame.DataFrame'>\n",
      "RangeIndex: 907085 entries, 0 to 907084\n",
      "Data columns (total 3 columns):\n",
      " #   Column   Non-Null Count   Dtype \n",
      "---  ------   --------------   ----- \n",
      " 0   user_id  907085 non-null  int64 \n",
      " 1   movie    907085 non-null  object\n",
      " 2   rating   907085 non-null  int64 \n",
      "dtypes: int64(2), object(1)\n",
      "memory usage: 20.8+ MB\n",
      "rating range: {1, 2, 3, 4, 5}\n"
     ]
    }
   ],
   "source": [
    "df.info()\n",
    "print(\"rating range:\",set(df[\"rating\"]))"
   ]
  },
  {
   "cell_type": "markdown",
   "id": "d5566739",
   "metadata": {},
   "source": [
    "# Train SVD model"
   ]
  },
  {
   "cell_type": "code",
   "execution_count": 5,
   "id": "7874d62c",
   "metadata": {},
   "outputs": [
    {
     "name": "stdout",
     "output_type": "stream",
     "text": [
      "Created training set\n",
      "Training SVD model done\n"
     ]
    }
   ],
   "source": [
    "reader = Reader(rating_scale=(1, 5))\n",
    "# Loads Pandas dataframe\n",
    "data = Dataset.load_from_df(df[[\"user_id\", \"movie\", \"rating\"]], reader)\n",
    "# Train\n",
    "trainingSet = data.build_full_trainset()\n",
    "print(\"Created training set\")\n",
    "\n",
    "\"\"\"\n",
    "lr_all is the learning rate for all parameters (how much the parameters are adjusted in each iteration)\n",
    "reg_all is the regularization term for all parameters, which is a penalty term added to prevent overfitting.\n",
    "\"\"\"\n",
    "param_grid = {\n",
    "    \"n_epochs\": [5, 10],\n",
    "    \"lr_all\": [0.002, 0.005],\n",
    "    \"reg_all\": [0.4, 0.6]\n",
    "}\n",
    "\n",
    "# Get the best params using GridSearchCV\n",
    "gs = GridSearchCV(SVD, param_grid, measures=[\"rmse\"], cv=3)\n",
    "gs.fit(data)\n",
    "best_params = gs.best_params[\"rmse\"]\n",
    "\n",
    "# Extract and train model with best params\n",
    "svd_algo = SVD(n_epochs=best_params['n_epochs'],\n",
    "               lr_all=best_params['lr_all'],\n",
    "               reg_all=best_params['reg_all'])\n",
    "svd_algo.fit(trainingSet)\n",
    "print(\"Training SVD model done\")"
   ]
  },
  {
   "cell_type": "code",
   "execution_count": 20,
   "id": "5f86cc5e",
   "metadata": {},
   "outputs": [
    {
     "name": "stdout",
     "output_type": "stream",
     "text": [
      "3.552702378320729\n"
     ]
    }
   ],
   "source": [
    "# Predict EX\n",
    "prediction = svd_algo.predict('523475', \"prison+break+the+final+break+2009\")\n",
    "print (prediction.est)"
   ]
  },
  {
   "cell_type": "code",
   "execution_count": 79,
   "id": "f02e5a40",
   "metadata": {},
   "outputs": [
    {
     "name": "stdout",
     "output_type": "stream",
     "text": [
      "Number of users: 516020, Number of Movies: 26749, Min rating: 1.0, Max rating: 5.0\n"
     ]
    }
   ],
   "source": [
    "user_ids = df[\"user_id\"].unique().tolist()\n",
    "user2user_encoded = {x: i for i, x in enumerate(user_ids)}\n",
    "userencoded2user = {i: x for i, x in enumerate(user_ids)}\n",
    "\n",
    "movie_ids = df[\"movie\"].unique().tolist()\n",
    "movie2movie_encoded = {x: i for i, x in enumerate(movie_ids)}\n",
    "movie_encoded2movie = {i: x for i, x in enumerate(movie_ids)}\n",
    "\n",
    "df[\"user\"] = df[\"user_id\"].map(user2user_encoded)\n",
    "df[\"movie_id\"] = df[\"movie\"].map(movie2movie_encoded)\n",
    "\n",
    "num_users = len(user2user_encoded)\n",
    "num_movies = len(movie_encoded2movie)\n",
    "df[\"rating\"] = df[\"rating\"].values.astype(np.float32)\n",
    "# min and max ratings will be used to normalize the ratings later\n",
    "min_rating = min(df[\"rating\"])\n",
    "max_rating = max(df[\"rating\"])\n",
    "\n",
    "print(\n",
    "    \"Number of users: {}, Number of Movies: {}, Min rating: {}, Max rating: {}\".format(\n",
    "        num_users, num_movies, min_rating, max_rating\n",
    "    )\n",
    ")"
   ]
  },
  {
   "cell_type": "markdown",
   "id": "bc60907d",
   "metadata": {},
   "source": [
    "# Get the recommendation for a sample user"
   ]
  },
  {
   "cell_type": "code",
   "execution_count": 22,
   "id": "e0ed44f4",
   "metadata": {},
   "outputs": [
    {
     "name": "stdout",
     "output_type": "stream",
     "text": [
      "911436 watched: the+shawshank+redemption+1994(movie_id: 21)\n",
      "911436 watched: shadow+of+the+thin+man+1941(movie_id: 4674)\n",
      "911436 watched: girls+gone+dead+2012(movie_id: 11339)\n"
     ]
    }
   ],
   "source": [
    "# Let us get a sample user and see the top recommendations.\n",
    "sample_user = df.user_id.sample(1).iloc[0]\n",
    "movies_watched_by_user = df[df.user_id == sample_user]\n",
    "for i in movies_watched_by_user.index:\n",
    "    print(str(sample_user) + \" watched: \" + str(movies_watched_by_user[\"movie\"][i]) + \"(movie_id: \"+ str(movies_watched_by_user[\"movie_id\"][i]) +\")\" )\n"
   ]
  },
  {
   "cell_type": "code",
   "execution_count": 23,
   "id": "76469b17",
   "metadata": {},
   "outputs": [
    {
     "data": {
      "text/html": [
       "<div>\n",
       "<style scoped>\n",
       "    .dataframe tbody tr th:only-of-type {\n",
       "        vertical-align: middle;\n",
       "    }\n",
       "\n",
       "    .dataframe tbody tr th {\n",
       "        vertical-align: top;\n",
       "    }\n",
       "\n",
       "    .dataframe thead th {\n",
       "        text-align: right;\n",
       "    }\n",
       "</style>\n",
       "<table border=\"1\" class=\"dataframe\">\n",
       "  <thead>\n",
       "    <tr style=\"text-align: right;\">\n",
       "      <th></th>\n",
       "      <th>user_id</th>\n",
       "      <th>movie</th>\n",
       "      <th>rating</th>\n",
       "      <th>user</th>\n",
       "      <th>movie_id</th>\n",
       "    </tr>\n",
       "  </thead>\n",
       "  <tbody>\n",
       "    <tr>\n",
       "      <th>630776</th>\n",
       "      <td>911436</td>\n",
       "      <td>the+shawshank+redemption+1994</td>\n",
       "      <td>4.0</td>\n",
       "      <td>421313</td>\n",
       "      <td>21</td>\n",
       "    </tr>\n",
       "    <tr>\n",
       "      <th>698900</th>\n",
       "      <td>911436</td>\n",
       "      <td>shadow+of+the+thin+man+1941</td>\n",
       "      <td>4.0</td>\n",
       "      <td>421313</td>\n",
       "      <td>4674</td>\n",
       "    </tr>\n",
       "    <tr>\n",
       "      <th>900171</th>\n",
       "      <td>911436</td>\n",
       "      <td>girls+gone+dead+2012</td>\n",
       "      <td>4.0</td>\n",
       "      <td>421313</td>\n",
       "      <td>11339</td>\n",
       "    </tr>\n",
       "  </tbody>\n",
       "</table>\n",
       "</div>"
      ],
      "text/plain": [
       "        user_id                          movie  rating    user  movie_id\n",
       "630776   911436  the+shawshank+redemption+1994     4.0  421313        21\n",
       "698900   911436    shadow+of+the+thin+man+1941     4.0  421313      4674\n",
       "900171   911436           girls+gone+dead+2012     4.0  421313     11339"
      ]
     },
     "execution_count": 23,
     "metadata": {},
     "output_type": "execute_result"
    }
   ],
   "source": [
    "movies_watched_by_user"
   ]
  },
  {
   "cell_type": "code",
   "execution_count": 24,
   "id": "246a3534",
   "metadata": {},
   "outputs": [],
   "source": [
    "# Get movie_id of movies_not_watched\n",
    "movies_not_watched = df[~df[\"movie_id\"].isin(movies_watched_by_user.movie_id.values)][\"movie_id\"]\n",
    "movies_not_watched = list(set(movies_not_watched).intersection(set(movie2movie_encoded.values())))\n",
    "# Get user_id of the sample user\n",
    "user_encoder = user2user_encoded.get(sample_user)\n",
    "# Let the model predict the rating of the movies in movies_not_watched\n",
    "ratings = np.array([svd_algo.predict(sample_user,movie_encoded2movie[i]).est for i in movies_not_watched])\n",
    "# Get the top 20 movies\n",
    "top_ratings_indices = ratings.argsort()[-20:][::-1]\n",
    "recommended_movies = [(movie_encoded2movie.get(movies_not_watched[x]),ratings[x]) for x in top_ratings_indices]\n"
   ]
  },
  {
   "cell_type": "code",
   "execution_count": 28,
   "id": "8820528a",
   "metadata": {},
   "outputs": [
    {
     "name": "stdout",
     "output_type": "stream",
     "text": [
      "Recommended items for user 911436 :\n",
      "\n",
      "\n",
      "\t louis+c.k.+oh+my+god+2013 : 4.0\n",
      "\t rear+window+1954 : 4.0\n",
      "\t jackie+brown+1997 : 4.0\n",
      "\t the+empire+strikes+back+1980 : 4.0\n",
      "\t the+civil+war+1990 : 4.0\n",
      "\t the+godfather+1972 : 4.0\n",
      "\t kill+bill+vol.+2+2004 : 4.0\n",
      "\t django+unchained+2012 : 4.0\n",
      "\t prime+suspect+1991 : 4.0\n",
      "\t star+wars+1977 : 4.0\n",
      "\t the+great+escape+1963 : 4.0\n",
      "\t the+godfather+part+ii+1974 : 4.0\n",
      "\t the+lord+of+the+rings+the+two+towers+2002 : 4.0\n",
      "\t the+usual+suspects+1995 : 4.0\n",
      "\t one+man+band+2005 : 4.0\n",
      "\t death+proof+2007 : 4.0\n",
      "\t pulp+fiction+1994 : 4.0\n",
      "\t casablanca+1942 : 4.0\n",
      "\t the+wrong+trousers+1993 : 4.0\n",
      "\t the+intouchables+2011 : 4.0\n"
     ]
    }
   ],
   "source": [
    "print(\"Recommended items for user\", sample_user, \":\")\n",
    "print(\"\\n\")\n",
    "for movie, score in recommended_movies:\n",
    "    print(\"\\t\", movie, \":\", float(round(score)))"
   ]
  },
  {
   "cell_type": "markdown",
   "id": "77ddbd67",
   "metadata": {},
   "source": [
    "# Save and load recommendation algo"
   ]
  },
  {
   "cell_type": "code",
   "execution_count": 7,
   "id": "ff7002b2",
   "metadata": {},
   "outputs": [],
   "source": [
    "from surprise import dump\n",
    "\n",
    "# Save the algorithm to disk\n",
    "dump.dump('SVD_model.dump', algo=svd_algo)"
   ]
  },
  {
   "cell_type": "markdown",
   "id": "4014b7b4",
   "metadata": {},
   "source": [
    "# Load and use (for deployment team)"
   ]
  },
  {
   "cell_type": "code",
   "execution_count": 18,
   "id": "98eaa6eb",
   "metadata": {},
   "outputs": [],
   "source": [
    "from surprise import dump\n",
    "\n",
    "# Save the algorithm to disk\n",
    "_, algo = dump.load('SVD_model.dump')"
   ]
  },
  {
   "cell_type": "code",
   "execution_count": 29,
   "id": "076863b2",
   "metadata": {},
   "outputs": [
    {
     "name": "stdout",
     "output_type": "stream",
     "text": [
      "Recommended items for user 427553 :\n",
      "\n",
      "\n",
      "\t the+shawshank+redemption+1994 : 4.0\n",
      "\t rear+window+1954 : 4.0\n",
      "\t louis+c.k.+oh+my+god+2013 : 4.0\n",
      "\t the+godfather+1972 : 4.0\n",
      "\t the+empire+strikes+back+1980 : 4.0\n",
      "\t the+civil+war+1990 : 4.0\n",
      "\t the+century+of+the+self+2002 : 4.0\n",
      "\t le+trou+1960 : 4.0\n",
      "\t fargo+1996 : 4.0\n",
      "\t the+intouchables+2011 : 4.0\n",
      "\t casablanca+1942 : 4.0\n",
      "\t star+wars+1977 : 4.0\n",
      "\t the+usual+suspects+1995 : 4.0\n",
      "\t the+revolution+will+not+be+televised+2003 : 4.0\n",
      "\t the+lord+of+the+rings+the+two+towers+2002 : 4.0\n",
      "\t prime+suspect+1991 : 4.0\n",
      "\t to+kill+a+mockingbird+1962 : 4.0\n",
      "\t for+the+birds+2000 : 4.0\n",
      "\t the+lord+of+the+rings+the+fellowship+of+the+ring+2001 : 4.0\n",
      "\t bill+hicks+revelations+1993 : 4.0\n"
     ]
    }
   ],
   "source": [
    "# Get the remapped user ID\n",
    "df = pd.read_csv(\"/home/rwilson2/data/ratings.csv\")[[\"user_id\",\"movie\",\"rating\"]]\n",
    "test_user = df.user_id.sample(1).iloc[0]\n",
    "\n",
    "user_ids = df[\"user_id\"].unique().tolist()\n",
    "user2user_encoded = {x: i for i, x in enumerate(user_ids)}\n",
    "userencoded2user = {i: x for i, x in enumerate(user_ids)}\n",
    "\n",
    "movie_ids = df[\"movie\"].unique().tolist()\n",
    "movie2movie_encoded = {x: i for i, x in enumerate(movie_ids)}\n",
    "movie_encoded2movie = {i: x for i, x in enumerate(movie_ids)}\n",
    "\n",
    "df[\"user\"] = df[\"user_id\"].map(user2user_encoded)\n",
    "df[\"movie_id\"] = df[\"movie\"].map(movie2movie_encoded)\n",
    "\n",
    "df[\"rating\"] = df[\"rating\"].values.astype(np.float32)\n",
    "movies_watched_by_user = df[df.user_id == test_user]\n",
    "\n",
    "# Get movie_id of movies_not_watched\n",
    "movies_not_watched = df[~df[\"movie_id\"].isin(movies_watched_by_user.movie_id.values)][\"movie_id\"]\n",
    "movies_not_watched = list(set(movies_not_watched).intersection(set(movie2movie_encoded.values())))\n",
    "# Get user_id of the sample user\n",
    "user_encoder = user2user_encoded.get(test_user)\n",
    "# Let the model predict the rating of the movies in movies_not_watched\n",
    "ratings = np.array([algo.predict(test_user,movie_encoded2movie[i]).est for i in movies_not_watched])\n",
    "# Get the top 20 movies\n",
    "top_ratings_indices = ratings.argsort()[-20:][::-1]\n",
    "recommended_movies = [(movie_encoded2movie.get(movies_not_watched[x]),ratings[x]) for x in top_ratings_indices]\n",
    "\n",
    "print(\"Recommended items for user\", test_user, \":\")\n",
    "print(\"\\n\")\n",
    "for movie, score in recommended_movies:\n",
    "    print(\"\\t\", movie, \":\", float(round(score)))"
   ]
  },
  {
   "cell_type": "markdown",
   "id": "e432a2c6",
   "metadata": {},
   "source": [
    "# Reference"
   ]
  },
  {
   "cell_type": "markdown",
   "id": "b5e50963",
   "metadata": {},
   "source": [
    "https://github.com/ckaestne/seai/blob/S2020/recitations/06_Collaborative_Filtering.ipynb"
   ]
  },
  {
   "cell_type": "code",
   "execution_count": null,
   "id": "b4abd440",
   "metadata": {},
   "outputs": [],
   "source": []
  }
 ],
 "metadata": {
  "kernelspec": {
   "display_name": "Python 3 (ipykernel)",
   "language": "python",
   "name": "python3"
  },
  "language_info": {
   "codemirror_mode": {
    "name": "ipython",
    "version": 3
   },
   "file_extension": ".py",
   "mimetype": "text/x-python",
   "name": "python",
   "nbconvert_exporter": "python",
   "pygments_lexer": "ipython3",
   "version": "3.8.10"
  }
 },
 "nbformat": 4,
 "nbformat_minor": 5
}
