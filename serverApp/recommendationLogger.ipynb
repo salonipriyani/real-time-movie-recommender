{
 "cells": [
  {
   "cell_type": "markdown",
   "id": "95a104de",
   "metadata": {},
   "source": [
    "# Recommendation Logger\n",
    "Need to first set up kafka stream port forwarding by running the following command on a local terminal. Will require a password from your email. \n",
    "\n",
    "ssh -L 9092:localhost:9092 tunnel@128.2.204.215 -NT"
   ]
  },
  {
   "cell_type": "code",
   "execution_count": 1,
   "id": "66cbfeab",
   "metadata": {},
   "outputs": [],
   "source": [
    "from os import path\n",
    "import sys, os\n",
    "#from datetime import datetime\n",
    "#from json import dumps, loads\n",
    "#from time import sleep\n",
    "#from random import randint\n",
    "#import numpy as np\n",
    "\n",
    "#import requests\n",
    "#import pandas as pd\n",
    "from kafka import KafkaConsumer"
   ]
  },
  {
   "cell_type": "code",
   "execution_count": 2,
   "id": "186b6fae",
   "metadata": {},
   "outputs": [],
   "source": [
    "topic = \"movielog12\""
   ]
  },
  {
   "cell_type": "code",
   "execution_count": 3,
   "id": "1bc11a60",
   "metadata": {},
   "outputs": [],
   "source": [
    "    consumer = KafkaConsumer(\n",
    "    topic,\n",
    "    bootstrap_servers=['localhost:9092'],\n",
    "    auto_offset_reset='latest',\n",
    "    )"
   ]
  },
  {
   "cell_type": "code",
   "execution_count": 4,
   "id": "377be229",
   "metadata": {},
   "outputs": [
    {
     "name": "stdout",
     "output_type": "stream",
     "text": [
      "2023-02-19T19:52:27.036762,303299,recommendation request 17645-team12.isri.cmu.edu:8082, status 0, result: java.net.ConnectException: Connection refused: 17645-team12.isri.cmu.edu/128.2.205.130:8082, 25 ms\n",
      "2023-02-19T19:52:27.171568,377022,recommendation request 17645-team12.isri.cmu.edu:8082, status 0, result: java.net.ConnectException: Connection refused: 17645-team12.isri.cmu.edu/128.2.205.130:8082, 138 ms\n",
      "2023-02-19T19:52:27.230978,123527,recommendation request 17645-team12.isri.cmu.edu:8082, status 0, result: java.net.ConnectException: Connection refused: 17645-team12.isri.cmu.edu/128.2.205.130:8082, 195 ms\n",
      "2023-02-19T19:52:27.285983,794984,recommendation request 17645-team12.isri.cmu.edu:8082, status 0, result: java.net.ConnectException: Connection refused: 17645-team12.isri.cmu.edu/128.2.205.130:8082, 251 ms\n",
      "2023-02-19T19:52:27.316444,384972,recommendation request 17645-team12.isri.cmu.edu:8082, status 0, result: java.net.ConnectException: Connection refused: 17645-team12.isri.cmu.edu/128.2.205.130:8082, 268 ms\n",
      "2023-02-19T19:52:27.601563,786642,recommendation request 17645-team12.isri.cmu.edu:8082, status 0, result: java.net.ConnectException: Connection refused: 17645-team12.isri.cmu.edu/128.2.205.130:8082, 580 ms\n",
      "2023-02-19T19:52:27.127897,722772,recommendation request 17645-team12.isri.cmu.edu:8082, status 0, result: java.net.ConnectException: Connection refused: 17645-team12.isri.cmu.edu/128.2.205.130:8082, 103 ms\n",
      "2023-02-19T19:52:27.197082,676924,recommendation request 17645-team12.isri.cmu.edu:8082, status 0, result: java.net.ConnectException: Connection refused: 17645-team12.isri.cmu.edu/128.2.205.130:8082, 174 ms\n",
      "2023-02-19T19:52:27.277304,673197,recommendation request 17645-team12.isri.cmu.edu:8082, status 0, result: java.net.ConnectException: Connection refused: 17645-team12.isri.cmu.edu/128.2.205.130:8082, 230 ms\n",
      "2023-02-19T19:52:27.309178,83599,recommendation request 17645-team12.isri.cmu.edu:8082, status 0, result: java.net.ConnectException: Connection refused: 17645-team12.isri.cmu.edu/128.2.205.130:8082, 260 ms\n",
      "2023-02-19T19:52:27.594257,611333,recommendation request 17645-team12.isri.cmu.edu:8082, status 0, result: java.net.ConnectException: Connection refused: 17645-team12.isri.cmu.edu/128.2.205.130:8082, 571 ms\n",
      "2023-02-19T19:52:27.613239,48950,recommendation request 17645-team12.isri.cmu.edu:8082, status 0, result: java.net.ConnectException: Connection refused: 17645-team12.isri.cmu.edu/128.2.205.130:8082, 580 ms\n",
      "2023-02-19T19:52:28.091210,842268,recommendation request 17645-team12.isri.cmu.edu:8082, status 0, result: java.net.ConnectException: Connection refused: 17645-team12.isri.cmu.edu/128.2.205.130:8082, 32 ms\n",
      "2023-02-19T19:52:28.351426,882818,recommendation request 17645-team12.isri.cmu.edu:8082, status 0, result: java.net.ConnectException: Connection refused: 17645-team12.isri.cmu.edu/128.2.205.130:8082, 279 ms\n",
      "2023-02-19T19:52:28.524612,357580,recommendation request 17645-team12.isri.cmu.edu:8082, status 0, result: java.net.ConnectException: Connection refused: 17645-team12.isri.cmu.edu/128.2.205.130:8082, 411 ms\n",
      "2023-02-19T19:52:28.583909,383249,recommendation request 17645-team12.isri.cmu.edu:8082, status 0, result: java.net.ConnectException: Connection refused: 17645-team12.isri.cmu.edu/128.2.205.130:8082, 442 ms\n",
      "2023-02-19T19:52:28.064802,818938,recommendation request 17645-team12.isri.cmu.edu:8082, status 0, result: java.net.ConnectException: Connection refused: 17645-team12.isri.cmu.edu/128.2.205.130:8082, 4 ms\n",
      "2023-02-19T19:52:28.344859,105405,recommendation request 17645-team12.isri.cmu.edu:8082, status 0, result: java.net.ConnectException: Connection refused: 17645-team12.isri.cmu.edu/128.2.205.130:8082, 268 ms\n",
      "2023-02-19T19:52:28.507199,925874,recommendation request 17645-team12.isri.cmu.edu:8082, status 0, result: java.net.ConnectException: Connection refused: 17645-team12.isri.cmu.edu/128.2.205.130:8082, 384 ms\n",
      "2023-02-19T19:52:28.554471,155517,recommendation request 17645-team12.isri.cmu.edu:8082, status 0, result: java.net.ConnectException: Connection refused: 17645-team12.isri.cmu.edu/128.2.205.130:8082, 414 ms\n",
      "2023-02-19T19:52:28.594647,597454,recommendation request 17645-team12.isri.cmu.edu:8082, status 0, result: java.net.ConnectException: Connection refused: 17645-team12.isri.cmu.edu/128.2.205.130:8082, 450 ms\n",
      "2023-02-19T19:52:29.162508,519289,recommendation request 17645-team12.isri.cmu.edu:8082, status 0, result: java.net.ConnectException: Connection refused: 17645-team12.isri.cmu.edu/128.2.205.130:8082, 98 ms\n",
      "2023-02-19T19:52:29.240883,920699,recommendation request 17645-team12.isri.cmu.edu:8082, status 0, result: java.net.ConnectException: Connection refused: 17645-team12.isri.cmu.edu/128.2.205.130:8082, 135 ms\n",
      "2023-02-19T19:52:29.460525,629217,recommendation request 17645-team12.isri.cmu.edu:8082, status 0, result: java.net.ConnectException: Connection refused: 17645-team12.isri.cmu.edu/128.2.205.130:8082, 380 ms\n",
      "2023-02-19T19:52:29.603307,565949,recommendation request 17645-team12.isri.cmu.edu:8082, status 0, result: java.net.ConnectException: Connection refused: 17645-team12.isri.cmu.edu/128.2.205.130:8082, 497 ms\n",
      "2023-02-19T19:52:29.215257,162946,recommendation request 17645-team12.isri.cmu.edu:8082, status 0, result: java.net.ConnectException: Connection refused: 17645-team12.isri.cmu.edu/128.2.205.130:8082, 148 ms\n",
      "2023-02-19T19:52:29.404438,485024,recommendation request 17645-team12.isri.cmu.edu:8082, status 0, result: java.net.ConnectException: Connection refused: 17645-team12.isri.cmu.edu/128.2.205.130:8082, 314 ms\n",
      "2023-02-19T19:52:29.500264,237118,recommendation request 17645-team12.isri.cmu.edu:8082, status 0, result: java.net.ConnectException: Connection refused: 17645-team12.isri.cmu.edu/128.2.205.130:8082, 405 ms\n",
      "2023-02-19T19:52:29.639367,330555,recommendation request 17645-team12.isri.cmu.edu:8082, status 0, result: java.net.ConnectException: Connection refused: 17645-team12.isri.cmu.edu/128.2.205.130:8082, 550 ms\n",
      "2023-02-19T19:52:30.034324,150066,recommendation request 17645-team12.isri.cmu.edu:8082, status 0, result: java.net.ConnectException: Connection refused: 17645-team12.isri.cmu.edu/128.2.205.130:8082, 6 ms\n",
      "2023-02-19T19:52:30.114067,206216,recommendation request 17645-team12.isri.cmu.edu:8082, status 0, result: java.net.ConnectException: Connection refused: 17645-team12.isri.cmu.edu/128.2.205.130:8082, 86 ms\n",
      "2023-02-19T19:52:30.205500,70649,recommendation request 17645-team12.isri.cmu.edu:8082, status 0, result: java.net.ConnectException: Connection refused: 17645-team12.isri.cmu.edu/128.2.205.130:8082, 169 ms\n",
      "2023-02-19T19:52:30.259293,857396,recommendation request 17645-team12.isri.cmu.edu:8082, status 0, result: java.net.ConnectException: Connection refused: 17645-team12.isri.cmu.edu/128.2.205.130:8082, 208 ms\n",
      "2023-02-19T19:52:30.311544,265375,recommendation request 17645-team12.isri.cmu.edu:8082, status 0, result: java.net.ConnectException: Connection refused: 17645-team12.isri.cmu.edu/128.2.205.130:8082, 277 ms\n",
      "2023-02-19T19:52:30.421615,255408,recommendation request 17645-team12.isri.cmu.edu:8082, status 0, result: java.net.ConnectException: Connection refused: 17645-team12.isri.cmu.edu/128.2.205.130:8082, 384 ms\n",
      "2023-02-19T19:52:30.622039,205657,recommendation request 17645-team12.isri.cmu.edu:8082, status 0, result: java.net.ConnectException: Connection refused: 17645-team12.isri.cmu.edu/128.2.205.130:8082, 591 ms\n",
      "2023-02-19T19:52:30.662352,153831,recommendation request 17645-team12.isri.cmu.edu:8082, status 0, result: java.net.ConnectException: Connection refused: 17645-team12.isri.cmu.edu/128.2.205.130:8082, 627 ms\n",
      "2023-02-19T19:52:30.064842,750535,recommendation request 17645-team12.isri.cmu.edu:8082, status 0, result: java.net.ConnectException: Connection refused: 17645-team12.isri.cmu.edu/128.2.205.130:8082, 37 ms\n",
      "2023-02-19T19:52:30.190584,681386,recommendation request 17645-team12.isri.cmu.edu:8082, status 0, result: java.net.ConnectException: Connection refused: 17645-team12.isri.cmu.edu/128.2.205.130:8082, 140 ms\n",
      "2023-02-19T19:52:30.227918,598720,recommendation request 17645-team12.isri.cmu.edu:8082, status 0, result: java.net.ConnectException: Connection refused: 17645-team12.isri.cmu.edu/128.2.205.130:8082, 189 ms\n",
      "2023-02-19T19:52:30.308190,811110,recommendation request 17645-team12.isri.cmu.edu:8082, status 0, result: java.net.ConnectException: Connection refused: 17645-team12.isri.cmu.edu/128.2.205.130:8082, 271 ms\n",
      "2023-02-19T19:52:30.390315,321363,recommendation request 17645-team12.isri.cmu.edu:8082, status 0, result: java.net.ConnectException: Connection refused: 17645-team12.isri.cmu.edu/128.2.205.130:8082, 360 ms\n",
      "2023-02-19T19:52:30.595595,226137,recommendation request 17645-team12.isri.cmu.edu:8082, status 0, result: java.net.ConnectException: Connection refused: 17645-team12.isri.cmu.edu/128.2.205.130:8082, 556 ms\n",
      "2023-02-19T19:52:30.640029,558074,recommendation request 17645-team12.isri.cmu.edu:8082, status 0, result: java.net.ConnectException: Connection refused: 17645-team12.isri.cmu.edu/128.2.205.130:8082, 585 ms\n"
     ]
    },
    {
     "name": "stdout",
     "output_type": "stream",
     "text": [
      "2023-02-19T19:52:31.245569,258584,recommendation request 17645-team12.isri.cmu.edu:8082, status 0, result: java.net.ConnectException: Connection refused: 17645-team12.isri.cmu.edu/128.2.205.130:8082, 126 ms\n",
      "2023-02-19T19:52:31.457951,27872,recommendation request 17645-team12.isri.cmu.edu:8082, status 0, result: java.net.ConnectException: Connection refused: 17645-team12.isri.cmu.edu/128.2.205.130:8082, 265 ms\n",
      "2023-02-19T19:52:31.471238,765124,recommendation request 17645-team12.isri.cmu.edu:8082, status 0, result: java.net.ConnectException: Connection refused: 17645-team12.isri.cmu.edu/128.2.205.130:8082, 276 ms\n",
      "2023-02-19T19:52:31.599768,48043,recommendation request 17645-team12.isri.cmu.edu:8082, status 0, result: java.net.ConnectException: Connection refused: 17645-team12.isri.cmu.edu/128.2.205.130:8082, 366 ms\n",
      "2023-02-19T19:52:31.646456,874993,recommendation request 17645-team12.isri.cmu.edu:8082, status 0, result: java.net.ConnectException: Connection refused: 17645-team12.isri.cmu.edu/128.2.205.130:8082, 367 ms\n",
      "2023-02-19T19:52:31.808901,156844,recommendation request 17645-team12.isri.cmu.edu:8082, status 0, result: java.net.ConnectException: Connection refused: 17645-team12.isri.cmu.edu/128.2.205.130:8082, 561 ms\n",
      "2023-02-19T19:52:31.847139,433692,recommendation request 17645-team12.isri.cmu.edu:8082, status 0, result: java.net.ConnectException: Connection refused: 17645-team12.isri.cmu.edu/128.2.205.130:8082, 525 ms\n",
      "2023-02-19T19:52:31.340160,158264,recommendation request 17645-team12.isri.cmu.edu:8082, status 0, result: java.net.ConnectException: Connection refused: 17645-team12.isri.cmu.edu/128.2.205.130:8082, 213 ms\n",
      "2023-02-19T19:52:31.462520,299560,recommendation request 17645-team12.isri.cmu.edu:8082, status 0, result: java.net.ConnectException: Connection refused: 17645-team12.isri.cmu.edu/128.2.205.130:8082, 269 ms\n",
      "2023-02-19T19:52:31.512852,189294,recommendation request 17645-team12.isri.cmu.edu:8082, status 0, result: java.net.ConnectException: Connection refused: 17645-team12.isri.cmu.edu/128.2.205.130:8082, 291 ms\n",
      "2023-02-19T19:52:31.631337,507429,recommendation request 17645-team12.isri.cmu.edu:8082, status 0, result: java.net.ConnectException: Connection refused: 17645-team12.isri.cmu.edu/128.2.205.130:8082, 373 ms\n",
      "2023-02-19T19:52:31.795341,519676,recommendation request 17645-team12.isri.cmu.edu:8082, status 0, result: java.net.ConnectException: Connection refused: 17645-team12.isri.cmu.edu/128.2.205.130:8082, 603 ms\n",
      "2023-02-19T19:52:31.835619,543608,recommendation request 17645-team12.isri.cmu.edu:8082, status 0, result: java.net.ConnectException: Connection refused: 17645-team12.isri.cmu.edu/128.2.205.130:8082, 545 ms\n",
      "2023-02-19T19:52:32.203492,378874,recommendation request 17645-team12.isri.cmu.edu:8082, status 0, result: java.net.ConnectException: Connection refused: 17645-team12.isri.cmu.edu/128.2.205.130:8082, 132 ms\n",
      "2023-02-19T19:52:32.289197,484501,recommendation request 17645-team12.isri.cmu.edu:8082, status 0, result: java.net.ConnectException: Connection refused: 17645-team12.isri.cmu.edu/128.2.205.130:8082, 200 ms\n",
      "2023-02-19T19:52:32.344194,506087,recommendation request 17645-team12.isri.cmu.edu:8082, status 0, result: java.net.ConnectException: Connection refused: 17645-team12.isri.cmu.edu/128.2.205.130:8082, 215 ms\n",
      "2023-02-19T19:52:32.406716,781986,recommendation request 17645-team12.isri.cmu.edu:8082, status 0, result: java.net.ConnectException: Connection refused: 17645-team12.isri.cmu.edu/128.2.205.130:8082, 257 ms\n",
      "2023-02-19T19:52:32.527373,170909,recommendation request 17645-team12.isri.cmu.edu:8082, status 0, result: java.net.ConnectException: Connection refused: 17645-team12.isri.cmu.edu/128.2.205.130:8082, 457 ms\n",
      "2023-02-19T19:52:32.553208,322827,recommendation request 17645-team12.isri.cmu.edu:8082, status 0, result: java.net.ConnectException: Connection refused: 17645-team12.isri.cmu.edu/128.2.205.130:8082, 463 ms\n",
      "2023-02-19T19:52:32.665671,53693,recommendation request 17645-team12.isri.cmu.edu:8082, status 0, result: java.net.ConnectException: Connection refused: 17645-team12.isri.cmu.edu/128.2.205.130:8082, 534 ms\n",
      "2023-02-19T19:52:32.730004,924162,recommendation request 17645-team12.isri.cmu.edu:8082, status 0, result: java.net.ConnectException: Connection refused: 17645-team12.isri.cmu.edu/128.2.205.130:8082, 564 ms\n",
      "2023-02-19T19:52:32.247468,715005,recommendation request 17645-team12.isri.cmu.edu:8082, status 0, result: java.net.ConnectException: Connection refused: 17645-team12.isri.cmu.edu/128.2.205.130:8082, 159 ms\n",
      "2023-02-19T19:52:32.304344,181961,recommendation request 17645-team12.isri.cmu.edu:8082, status 0, result: java.net.ConnectException: Connection refused: 17645-team12.isri.cmu.edu/128.2.205.130:8082, 206 ms\n",
      "2023-02-19T19:52:32.361105,415948,recommendation request 17645-team12.isri.cmu.edu:8082, status 0, result: java.net.ConnectException: Connection refused: 17645-team12.isri.cmu.edu/128.2.205.130:8082, 230 ms\n",
      "2023-02-19T19:52:32.469196,166625,recommendation request 17645-team12.isri.cmu.edu:8082, status 0, result: java.net.ConnectException: Connection refused: 17645-team12.isri.cmu.edu/128.2.205.130:8082, 397 ms\n",
      "2023-02-19T19:52:32.551882,440902,recommendation request 17645-team12.isri.cmu.edu:8082, status 0, result: java.net.ConnectException: Connection refused: 17645-team12.isri.cmu.edu/128.2.205.130:8082, 472 ms\n",
      "2023-02-19T19:52:32.623881,927381,recommendation request 17645-team12.isri.cmu.edu:8082, status 0, result: java.net.ConnectException: Connection refused: 17645-team12.isri.cmu.edu/128.2.205.130:8082, 505 ms\n",
      "2023-02-19T19:52:32.712481,118258,recommendation request 17645-team12.isri.cmu.edu:8082, status 0, result: java.net.ConnectException: Connection refused: 17645-team12.isri.cmu.edu/128.2.205.130:8082, 580 ms\n",
      "2023-02-19T19:52:33.130172,32967,recommendation request 17645-team12.isri.cmu.edu:8082, status 0, result: java.net.ConnectException: Connection refused: 17645-team12.isri.cmu.edu/128.2.205.130:8082, 42 ms\n",
      "2023-02-19T19:52:33.201439,462993,recommendation request 17645-team12.isri.cmu.edu:8082, status 0, result: java.net.ConnectException: Connection refused: 17645-team12.isri.cmu.edu/128.2.205.130:8082, 111 ms\n",
      "2023-02-19T19:52:33.218337,950094,recommendation request 17645-team12.isri.cmu.edu:8082, status 0, result: java.net.ConnectException: Connection refused: 17645-team12.isri.cmu.edu/128.2.205.130:8082, 128 ms\n",
      "2023-02-19T19:52:33.414815,170903,recommendation request 17645-team12.isri.cmu.edu:8082, status 0, result: java.net.ConnectException: Connection refused: 17645-team12.isri.cmu.edu/128.2.205.130:8082, 243 ms\n",
      "2023-02-19T19:52:33.677606,894073,recommendation request 17645-team12.isri.cmu.edu:8082, status 0, result: java.net.ConnectException: Connection refused: 17645-team12.isri.cmu.edu/128.2.205.130:8082, 560 ms\n",
      "2023-02-19T19:52:33.142173,728942,recommendation request 17645-team12.isri.cmu.edu:8082, status 0, result: java.net.ConnectException: Connection refused: 17645-team12.isri.cmu.edu/128.2.205.130:8082, 54 ms\n",
      "2023-02-19T19:52:33.208196,122636,recommendation request 17645-team12.isri.cmu.edu:8082, status 0, result: java.net.ConnectException: Connection refused: 17645-team12.isri.cmu.edu/128.2.205.130:8082, 119 ms\n",
      "2023-02-19T19:52:33.387864,801612,recommendation request 17645-team12.isri.cmu.edu:8082, status 0, result: java.net.ConnectException: Connection refused: 17645-team12.isri.cmu.edu/128.2.205.130:8082, 233 ms\n",
      "2023-02-19T19:52:33.435245,255642,recommendation request 17645-team12.isri.cmu.edu:8082, status 0, result: java.net.ConnectException: Connection refused: 17645-team12.isri.cmu.edu/128.2.205.130:8082, 266 ms\n"
     ]
    },
    {
     "ename": "KeyboardInterrupt",
     "evalue": "",
     "output_type": "error",
     "traceback": [
      "\u001b[0;31m---------------------------------------------------------------------------\u001b[0m",
      "\u001b[0;31mKeyboardInterrupt\u001b[0m                         Traceback (most recent call last)",
      "Input \u001b[0;32mIn [4]\u001b[0m, in \u001b[0;36m<cell line: 1>\u001b[0;34m()\u001b[0m\n\u001b[0;32m----> 1\u001b[0m \u001b[38;5;28;01mfor\u001b[39;00m message \u001b[38;5;129;01min\u001b[39;00m consumer:\n\u001b[1;32m      2\u001b[0m     message \u001b[38;5;241m=\u001b[39m message\u001b[38;5;241m.\u001b[39mvalue\u001b[38;5;241m.\u001b[39mdecode()\n\u001b[1;32m      3\u001b[0m     splits \u001b[38;5;241m=\u001b[39m message\u001b[38;5;241m.\u001b[39msplit(\u001b[38;5;124m'\u001b[39m\u001b[38;5;124m,\u001b[39m\u001b[38;5;124m'\u001b[39m)\n",
      "File \u001b[0;32m~/anaconda3/lib/python3.8/site-packages/kafka/consumer/group.py:1193\u001b[0m, in \u001b[0;36mKafkaConsumer.__next__\u001b[0;34m(self)\u001b[0m\n\u001b[1;32m   1191\u001b[0m     \u001b[38;5;28;01mreturn\u001b[39;00m \u001b[38;5;28mself\u001b[39m\u001b[38;5;241m.\u001b[39mnext_v1()\n\u001b[1;32m   1192\u001b[0m \u001b[38;5;28;01melse\u001b[39;00m:\n\u001b[0;32m-> 1193\u001b[0m     \u001b[38;5;28;01mreturn\u001b[39;00m \u001b[38;5;28;43mself\u001b[39;49m\u001b[38;5;241;43m.\u001b[39;49m\u001b[43mnext_v2\u001b[49m\u001b[43m(\u001b[49m\u001b[43m)\u001b[49m\n",
      "File \u001b[0;32m~/anaconda3/lib/python3.8/site-packages/kafka/consumer/group.py:1201\u001b[0m, in \u001b[0;36mKafkaConsumer.next_v2\u001b[0;34m(self)\u001b[0m\n\u001b[1;32m   1199\u001b[0m     \u001b[38;5;28mself\u001b[39m\u001b[38;5;241m.\u001b[39m_iterator \u001b[38;5;241m=\u001b[39m \u001b[38;5;28mself\u001b[39m\u001b[38;5;241m.\u001b[39m_message_generator_v2()\n\u001b[1;32m   1200\u001b[0m \u001b[38;5;28;01mtry\u001b[39;00m:\n\u001b[0;32m-> 1201\u001b[0m     \u001b[38;5;28;01mreturn\u001b[39;00m \u001b[38;5;28;43mnext\u001b[39;49m\u001b[43m(\u001b[49m\u001b[38;5;28;43mself\u001b[39;49m\u001b[38;5;241;43m.\u001b[39;49m\u001b[43m_iterator\u001b[49m\u001b[43m)\u001b[49m\n\u001b[1;32m   1202\u001b[0m \u001b[38;5;28;01mexcept\u001b[39;00m \u001b[38;5;167;01mStopIteration\u001b[39;00m:\n\u001b[1;32m   1203\u001b[0m     \u001b[38;5;28mself\u001b[39m\u001b[38;5;241m.\u001b[39m_iterator \u001b[38;5;241m=\u001b[39m \u001b[38;5;28;01mNone\u001b[39;00m\n",
      "File \u001b[0;32m~/anaconda3/lib/python3.8/site-packages/kafka/consumer/group.py:1116\u001b[0m, in \u001b[0;36mKafkaConsumer._message_generator_v2\u001b[0;34m(self)\u001b[0m\n\u001b[1;32m   1114\u001b[0m \u001b[38;5;28;01mdef\u001b[39;00m \u001b[38;5;21m_message_generator_v2\u001b[39m(\u001b[38;5;28mself\u001b[39m):\n\u001b[1;32m   1115\u001b[0m     timeout_ms \u001b[38;5;241m=\u001b[39m \u001b[38;5;241m1000\u001b[39m \u001b[38;5;241m*\u001b[39m (\u001b[38;5;28mself\u001b[39m\u001b[38;5;241m.\u001b[39m_consumer_timeout \u001b[38;5;241m-\u001b[39m time\u001b[38;5;241m.\u001b[39mtime())\n\u001b[0;32m-> 1116\u001b[0m     record_map \u001b[38;5;241m=\u001b[39m \u001b[38;5;28;43mself\u001b[39;49m\u001b[38;5;241;43m.\u001b[39;49m\u001b[43mpoll\u001b[49m\u001b[43m(\u001b[49m\u001b[43mtimeout_ms\u001b[49m\u001b[38;5;241;43m=\u001b[39;49m\u001b[43mtimeout_ms\u001b[49m\u001b[43m,\u001b[49m\u001b[43m \u001b[49m\u001b[43mupdate_offsets\u001b[49m\u001b[38;5;241;43m=\u001b[39;49m\u001b[38;5;28;43;01mFalse\u001b[39;49;00m\u001b[43m)\u001b[49m\n\u001b[1;32m   1117\u001b[0m     \u001b[38;5;28;01mfor\u001b[39;00m tp, records \u001b[38;5;129;01min\u001b[39;00m six\u001b[38;5;241m.\u001b[39miteritems(record_map):\n\u001b[1;32m   1118\u001b[0m         \u001b[38;5;66;03m# Generators are stateful, and it is possible that the tp / records\u001b[39;00m\n\u001b[1;32m   1119\u001b[0m         \u001b[38;5;66;03m# here may become stale during iteration -- i.e., we seek to a\u001b[39;00m\n\u001b[1;32m   1120\u001b[0m         \u001b[38;5;66;03m# different offset, pause consumption, or lose assignment.\u001b[39;00m\n\u001b[1;32m   1121\u001b[0m         \u001b[38;5;28;01mfor\u001b[39;00m record \u001b[38;5;129;01min\u001b[39;00m records:\n\u001b[1;32m   1122\u001b[0m             \u001b[38;5;66;03m# is_fetchable(tp) should handle assignment changes and offset\u001b[39;00m\n\u001b[1;32m   1123\u001b[0m             \u001b[38;5;66;03m# resets; for all other changes (e.g., seeks) we'll rely on the\u001b[39;00m\n\u001b[1;32m   1124\u001b[0m             \u001b[38;5;66;03m# outer function destroying the existing iterator/generator\u001b[39;00m\n\u001b[1;32m   1125\u001b[0m             \u001b[38;5;66;03m# via self._iterator = None\u001b[39;00m\n",
      "File \u001b[0;32m~/anaconda3/lib/python3.8/site-packages/kafka/consumer/group.py:655\u001b[0m, in \u001b[0;36mKafkaConsumer.poll\u001b[0;34m(self, timeout_ms, max_records, update_offsets)\u001b[0m\n\u001b[1;32m    653\u001b[0m remaining \u001b[38;5;241m=\u001b[39m timeout_ms\n\u001b[1;32m    654\u001b[0m \u001b[38;5;28;01mwhile\u001b[39;00m \u001b[38;5;28;01mTrue\u001b[39;00m:\n\u001b[0;32m--> 655\u001b[0m     records \u001b[38;5;241m=\u001b[39m \u001b[38;5;28;43mself\u001b[39;49m\u001b[38;5;241;43m.\u001b[39;49m\u001b[43m_poll_once\u001b[49m\u001b[43m(\u001b[49m\u001b[43mremaining\u001b[49m\u001b[43m,\u001b[49m\u001b[43m \u001b[49m\u001b[43mmax_records\u001b[49m\u001b[43m,\u001b[49m\u001b[43m \u001b[49m\u001b[43mupdate_offsets\u001b[49m\u001b[38;5;241;43m=\u001b[39;49m\u001b[43mupdate_offsets\u001b[49m\u001b[43m)\u001b[49m\n\u001b[1;32m    656\u001b[0m     \u001b[38;5;28;01mif\u001b[39;00m records:\n\u001b[1;32m    657\u001b[0m         \u001b[38;5;28;01mreturn\u001b[39;00m records\n",
      "File \u001b[0;32m~/anaconda3/lib/python3.8/site-packages/kafka/consumer/group.py:702\u001b[0m, in \u001b[0;36mKafkaConsumer._poll_once\u001b[0;34m(self, timeout_ms, max_records, update_offsets)\u001b[0m\n\u001b[1;32m    699\u001b[0m     \u001b[38;5;28mself\u001b[39m\u001b[38;5;241m.\u001b[39m_client\u001b[38;5;241m.\u001b[39mpoll(timeout_ms\u001b[38;5;241m=\u001b[39m\u001b[38;5;241m0\u001b[39m)\n\u001b[1;32m    701\u001b[0m timeout_ms \u001b[38;5;241m=\u001b[39m \u001b[38;5;28mmin\u001b[39m(timeout_ms, \u001b[38;5;28mself\u001b[39m\u001b[38;5;241m.\u001b[39m_coordinator\u001b[38;5;241m.\u001b[39mtime_to_next_poll() \u001b[38;5;241m*\u001b[39m \u001b[38;5;241m1000\u001b[39m)\n\u001b[0;32m--> 702\u001b[0m \u001b[38;5;28;43mself\u001b[39;49m\u001b[38;5;241;43m.\u001b[39;49m\u001b[43m_client\u001b[49m\u001b[38;5;241;43m.\u001b[39;49m\u001b[43mpoll\u001b[49m\u001b[43m(\u001b[49m\u001b[43mtimeout_ms\u001b[49m\u001b[38;5;241;43m=\u001b[39;49m\u001b[43mtimeout_ms\u001b[49m\u001b[43m)\u001b[49m\n\u001b[1;32m    703\u001b[0m \u001b[38;5;66;03m# after the long poll, we should check whether the group needs to rebalance\u001b[39;00m\n\u001b[1;32m    704\u001b[0m \u001b[38;5;66;03m# prior to returning data so that the group can stabilize faster\u001b[39;00m\n\u001b[1;32m    705\u001b[0m \u001b[38;5;28;01mif\u001b[39;00m \u001b[38;5;28mself\u001b[39m\u001b[38;5;241m.\u001b[39m_coordinator\u001b[38;5;241m.\u001b[39mneed_rejoin():\n",
      "File \u001b[0;32m~/anaconda3/lib/python3.8/site-packages/kafka/client_async.py:602\u001b[0m, in \u001b[0;36mKafkaClient.poll\u001b[0;34m(self, timeout_ms, future)\u001b[0m\n\u001b[1;32m    599\u001b[0m             timeout \u001b[38;5;241m=\u001b[39m \u001b[38;5;28mmin\u001b[39m(timeout, \u001b[38;5;28mself\u001b[39m\u001b[38;5;241m.\u001b[39mconfig[\u001b[38;5;124m'\u001b[39m\u001b[38;5;124mretry_backoff_ms\u001b[39m\u001b[38;5;124m'\u001b[39m])\n\u001b[1;32m    600\u001b[0m         timeout \u001b[38;5;241m=\u001b[39m \u001b[38;5;28mmax\u001b[39m(\u001b[38;5;241m0\u001b[39m, timeout)  \u001b[38;5;66;03m# avoid negative timeouts\u001b[39;00m\n\u001b[0;32m--> 602\u001b[0m     \u001b[38;5;28;43mself\u001b[39;49m\u001b[38;5;241;43m.\u001b[39;49m\u001b[43m_poll\u001b[49m\u001b[43m(\u001b[49m\u001b[43mtimeout\u001b[49m\u001b[43m \u001b[49m\u001b[38;5;241;43m/\u001b[39;49m\u001b[43m \u001b[49m\u001b[38;5;241;43m1000\u001b[39;49m\u001b[43m)\u001b[49m\n\u001b[1;32m    604\u001b[0m \u001b[38;5;66;03m# called without the lock to avoid deadlock potential\u001b[39;00m\n\u001b[1;32m    605\u001b[0m \u001b[38;5;66;03m# if handlers need to acquire locks\u001b[39;00m\n\u001b[1;32m    606\u001b[0m responses\u001b[38;5;241m.\u001b[39mextend(\u001b[38;5;28mself\u001b[39m\u001b[38;5;241m.\u001b[39m_fire_pending_completed_requests())\n",
      "File \u001b[0;32m~/anaconda3/lib/python3.8/site-packages/kafka/client_async.py:634\u001b[0m, in \u001b[0;36mKafkaClient._poll\u001b[0;34m(self, timeout)\u001b[0m\n\u001b[1;32m    631\u001b[0m \u001b[38;5;28mself\u001b[39m\u001b[38;5;241m.\u001b[39m_register_send_sockets()\n\u001b[1;32m    633\u001b[0m start_select \u001b[38;5;241m=\u001b[39m time\u001b[38;5;241m.\u001b[39mtime()\n\u001b[0;32m--> 634\u001b[0m ready \u001b[38;5;241m=\u001b[39m \u001b[38;5;28;43mself\u001b[39;49m\u001b[38;5;241;43m.\u001b[39;49m\u001b[43m_selector\u001b[49m\u001b[38;5;241;43m.\u001b[39;49m\u001b[43mselect\u001b[49m\u001b[43m(\u001b[49m\u001b[43mtimeout\u001b[49m\u001b[43m)\u001b[49m\n\u001b[1;32m    635\u001b[0m end_select \u001b[38;5;241m=\u001b[39m time\u001b[38;5;241m.\u001b[39mtime()\n\u001b[1;32m    636\u001b[0m \u001b[38;5;28;01mif\u001b[39;00m \u001b[38;5;28mself\u001b[39m\u001b[38;5;241m.\u001b[39m_sensors:\n",
      "File \u001b[0;32m~/anaconda3/lib/python3.8/selectors.py:468\u001b[0m, in \u001b[0;36mEpollSelector.select\u001b[0;34m(self, timeout)\u001b[0m\n\u001b[1;32m    466\u001b[0m ready \u001b[38;5;241m=\u001b[39m []\n\u001b[1;32m    467\u001b[0m \u001b[38;5;28;01mtry\u001b[39;00m:\n\u001b[0;32m--> 468\u001b[0m     fd_event_list \u001b[38;5;241m=\u001b[39m \u001b[38;5;28;43mself\u001b[39;49m\u001b[38;5;241;43m.\u001b[39;49m\u001b[43m_selector\u001b[49m\u001b[38;5;241;43m.\u001b[39;49m\u001b[43mpoll\u001b[49m\u001b[43m(\u001b[49m\u001b[43mtimeout\u001b[49m\u001b[43m,\u001b[49m\u001b[43m \u001b[49m\u001b[43mmax_ev\u001b[49m\u001b[43m)\u001b[49m\n\u001b[1;32m    469\u001b[0m \u001b[38;5;28;01mexcept\u001b[39;00m \u001b[38;5;167;01mInterruptedError\u001b[39;00m:\n\u001b[1;32m    470\u001b[0m     \u001b[38;5;28;01mreturn\u001b[39;00m ready\n",
      "\u001b[0;31mKeyboardInterrupt\u001b[0m: "
     ]
    }
   ],
   "source": [
    "for message in consumer:\n",
    "    message = message.value.decode()\n",
    "    splits = message.split(',')\n",
    "    \n",
    "    if splits[2] == 'recommendation request 17645-team12.isri.cmu.edu:8082':\n",
    "        print(message)"
   ]
  },
  {
   "cell_type": "code",
   "execution_count": null,
   "id": "411e23cd",
   "metadata": {},
   "outputs": [],
   "source": []
  }
 ],
 "metadata": {
  "kernelspec": {
   "display_name": "Python 3 (ipykernel)",
   "language": "python",
   "name": "python3"
  },
  "language_info": {
   "codemirror_mode": {
    "name": "ipython",
    "version": 3
   },
   "file_extension": ".py",
   "mimetype": "text/x-python",
   "name": "python",
   "nbconvert_exporter": "python",
   "pygments_lexer": "ipython3",
   "version": "3.8.8"
  }
 },
 "nbformat": 4,
 "nbformat_minor": 5
}
