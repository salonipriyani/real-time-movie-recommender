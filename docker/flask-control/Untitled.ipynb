{
 "cells": [
  {
   "cell_type": "code",
   "execution_count": 10,
   "id": "3b341e3e",
   "metadata": {},
   "outputs": [],
   "source": [
    "from datetime import datetime\n",
    "import psycopg2\n",
    "import os"
   ]
  },
  {
   "cell_type": "code",
   "execution_count": 18,
   "id": "59db3492",
   "metadata": {},
   "outputs": [],
   "source": [
    "\n",
    "def get_db_connection():\n",
    "    conn = psycopg2.connect(host='localhost',\n",
    "                            database='sqlalchemy',\n",
    "                            user=os.environ['DB_USERNAME'],\n",
    "                            password=os.environ['DB_PASSWORD'])\n",
    "    return conn"
   ]
  },
  {
   "cell_type": "code",
   "execution_count": 35,
   "id": "aef07e8f",
   "metadata": {},
   "outputs": [],
   "source": [
    "def log_recommendation(user_id, recommendation):\n",
    "\n",
    "    conn = get_db_connection()\n",
    "    cur = conn.cursor()\n",
    "\n",
    "    elements = \"user_id, model_id, data_id, recommendation, time_stamp\"\n",
    "\n",
    "    stamp = datetime.now().strftime('\"%Y-%m-%dT%H:%M:%S\"')\n",
    "    model = os.environ['MODEL_ID']\n",
    "    data = os.environ['DATA_ID']\n",
    "    \n",
    "    log = f'\\'{user_id}\\', \\'{model}\\', \\'{data}\\', \\'{recommendation}\\', \\'{stamp}\\''\n",
    "\n",
    "    cur.execute(f'INSERT INTO recommendations({elements}) VALUES ({log})')\n",
    "\n",
    "    conn.commit()\n",
    "    cur.close()\n",
    "    conn.close()\n",
    "\n"
   ]
  },
  {
   "cell_type": "code",
   "execution_count": 14,
   "id": "8e34b4c5",
   "metadata": {},
   "outputs": [
    {
     "name": "stdout",
     "output_type": "stream",
     "text": [
      "env: MODEL_ID=TEST\n",
      "env: DATA_ID=TEST\n",
      "env: DB_USERNAME=root\n",
      "env: DB_PASSWORD=password\n"
     ]
    }
   ],
   "source": [
    "%env MODEL_ID=TEST\n",
    "%env DATA_ID=TEST\n",
    "%env DB_USERNAME=root\n",
    "%env DB_PASSWORD=password"
   ]
  },
  {
   "cell_type": "code",
   "execution_count": 36,
   "id": "63078e76",
   "metadata": {},
   "outputs": [],
   "source": [
    "log_recommendation(1, \"recommendations\")"
   ]
  },
  {
   "cell_type": "code",
   "execution_count": 8,
   "id": "cc7623db",
   "metadata": {},
   "outputs": [],
   "source": [
    "meep = \"meep\"\n",
    "string = f'Meep: {meep}'"
   ]
  },
  {
   "cell_type": "code",
   "execution_count": 9,
   "id": "29e49b79",
   "metadata": {},
   "outputs": [
    {
     "name": "stdout",
     "output_type": "stream",
     "text": [
      "Meep: meep\n"
     ]
    }
   ],
   "source": [
    "print(string)"
   ]
  },
  {
   "cell_type": "code",
   "execution_count": null,
   "id": "e2e52eaf",
   "metadata": {},
   "outputs": [],
   "source": []
  }
 ],
 "metadata": {
  "kernelspec": {
   "display_name": "Python 3 (ipykernel)",
   "language": "python",
   "name": "python3"
  },
  "language_info": {
   "codemirror_mode": {
    "name": "ipython",
    "version": 3
   },
   "file_extension": ".py",
   "mimetype": "text/x-python",
   "name": "python",
   "nbconvert_exporter": "python",
   "pygments_lexer": "ipython3",
   "version": "3.8.8"
  }
 },
 "nbformat": 4,
 "nbformat_minor": 5
}
