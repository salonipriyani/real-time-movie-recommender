{
 "cells": [
  {
   "cell_type": "code",
   "execution_count": 1,
   "metadata": {},
   "outputs": [],
   "source": [
    "import pandas as pd\n",
    "import numpy as np\n",
    "from surprise import dump\n",
    "import os\n",
    "from surprise import Dataset\n",
    "from surprise import accuracy\n",
    "from surprise.model_selection import train_test_split\n",
    "from surprise import Reader, Dataset\n",
    "from surprise import SVD\n",
    "from surprise.model_selection import GridSearchCV\n",
    "from surprise import KNNWithMeans\n",
    "from datetime import datetime\n",
    "from collections import defaultdict"
   ]
  },
  {
   "attachments": {},
   "cell_type": "markdown",
   "metadata": {},
   "source": [
    "# load matrix and data"
   ]
  },
  {
   "cell_type": "code",
   "execution_count": 15,
   "metadata": {},
   "outputs": [
    {
     "name": "stdout",
     "output_type": "stream",
     "text": [
      "(907085, 3)\n",
      "                                           movie    user  rating\n",
      "0                        3+ninjas+kick+back+1994   10000       3\n",
      "1                            monsters_+inc.+2001  100002       4\n",
      "2  more+about+the+children+of+noisy+village+1987  100002       4\n",
      "(523475, 'prison+break+the+final+break+2009', 4.0, None)\n",
      "(906340, 'the+warlords+2007', 3.0, None)\n",
      "(474539, 'the+unknown+woman+2011', 4.0, None)\n"
     ]
    }
   ],
   "source": [
    "MODEL_DIR = os.path.abspath('25k-user-based-algo.dump')\n",
    "_, CF_model = dump.load(MODEL_DIR)\n",
    "\n",
    "\n",
    "SVD_MODEL_DIR = os.path.abspath('SVD_model_subset.dump')\n",
    "_, SVD_model = dump.load(SVD_MODEL_DIR)\n",
    "\n",
    "train_data = pd.read_csv(\"rating_dict.csv\")\n",
    "\n",
    "df = pd.read_csv(\"../ratings.csv\",index_col=False).reindex(columns=[\"movie\", \"user_id\", \"rating\"]).rename(columns={\"user_id\":\"user\"})\n",
    "print(df.shape)\n",
    "reader = Reader(rating_scale=(1, 5))\n",
    "# Loads Pandas dataframe\n",
    "data = Dataset.load_from_df(df[[\"user\", \"movie\", \"rating\"]], reader)\n",
    "print(train_data.head(3))\n",
    "for i in range(3):\n",
    "    print(data.raw_ratings[i])"
   ]
  },
  {
   "attachments": {},
   "cell_type": "markdown",
   "metadata": {},
   "source": [
    "# calculate RMSE \n"
   ]
  },
  {
   "cell_type": "code",
   "execution_count": 3,
   "metadata": {},
   "outputs": [
    {
     "name": "stdout",
     "output_type": "stream",
     "text": [
      "CF's rmse:  0.601897537586233\n",
      "SVD's rmse:  0.5814020326287207\n"
     ]
    }
   ],
   "source": [
    "train, test = train_test_split(data, test_size=0.2)\n",
    "# test_df = test_df.drop(columns=[\"rating\"]).reindex(columns=[ \"user\", \"movie\"])\n",
    "\n",
    "CF_pred = CF_model.test(test)\n",
    "SVD_pred = SVD_model.test(test)\n",
    "CF_rmse = accuracy.mae(CF_pred,verbose=False)\n",
    "SVD_rmse = accuracy.mae(SVD_pred,verbose=False)\n",
    "print(\"CF's rmse: \", CF_rmse)\n",
    "print(\"SVD's rmse: \", SVD_rmse)\n",
    "\n"
   ]
  },
  {
   "attachments": {},
   "cell_type": "markdown",
   "metadata": {},
   "source": [
    "# calculate accuracy"
   ]
  },
  {
   "cell_type": "code",
   "execution_count": 4,
   "metadata": {},
   "outputs": [
    {
     "name": "stdout",
     "output_type": "stream",
     "text": [
      "CF Model accuracy: 3.32%\n",
      "SVD Model Accuracy: 19.58%\n"
     ]
    }
   ],
   "source": [
    "tolerance = 0.25\n",
    "cf_correct = sum(abs(prediction.est - prediction.r_ui) <= tolerance for prediction in CF_pred)\n",
    "cf_acc = cf_correct / len(CF_pred)\n",
    "print(f'CF Model accuracy: {cf_acc * 100:.2f}%')\n",
    "svd_correct = sum(abs(prediction.est - prediction.r_ui) <= tolerance for prediction in SVD_pred)\n",
    "svd_acc = svd_correct / len(CF_pred)\n",
    "print(f'SVD Model Accuracy: {svd_acc * 100:.2f}%')"
   ]
  },
  {
   "attachments": {},
   "cell_type": "markdown",
   "metadata": {},
   "source": [
    "# test training\n"
   ]
  },
  {
   "cell_type": "code",
   "execution_count": 5,
   "metadata": {},
   "outputs": [
    {
     "name": "stdout",
     "output_type": "stream",
     "text": [
      "Computing the cosine similarity matrix...\n",
      "Done computing similarity matrix.\n",
      "CF Model trainning time:  0:00:06.107910\n"
     ]
    }
   ],
   "source": [
    "reader = Reader(rating_scale=(1, 5))\n",
    "data = Dataset.load_from_df(train_data[[\"user\", \"movie\", \"rating\"]], reader)\n",
    "###### from model teams' code ######\n",
    "trainingSet = data.build_full_trainset()\n",
    "sim_options = {\n",
    "    \"name\": \"cosine\",\n",
    "    \"user_based\": True,\n",
    "}\n",
    "CF_algo = KNNWithMeans(sim_options=sim_options)\n",
    "\n",
    "start_time = datetime.now()\n",
    "\n",
    "CF_algo.fit(trainingSet) \n",
    "\n",
    "end_time = datetime.now()\n",
    "\n",
    "print('CF Model trainning time: ', end_time - start_time)"
   ]
  },
  {
   "cell_type": "code",
   "execution_count": 6,
   "metadata": {},
   "outputs": [
    {
     "name": "stdout",
     "output_type": "stream",
     "text": [
      "SVD Model trainning time:  0:00:08.056400\n"
     ]
    }
   ],
   "source": [
    "reader = Reader(rating_scale=(1, 5))\n",
    "data = Dataset.load_from_df(train_data[[\"user\", \"movie\", \"rating\"]], reader)\n",
    "###### from model teams' code ######\n",
    "param_grid = {\n",
    "    \"n_epochs\": [5, 10],\n",
    "    \"lr_all\": [0.002, 0.005],\n",
    "    \"reg_all\": [0.4, 0.6]\n",
    "}\n",
    "gs = GridSearchCV(SVD, param_grid, measures=[\"rmse\"], cv=3)\n",
    "\n",
    "start_time = datetime.now()\n",
    "\n",
    "gs.fit(data)\n",
    "\n",
    "end_time = datetime.now()\n",
    "\n",
    "print('SVD Model trainning time: ', end_time - start_time)"
   ]
  },
  {
   "attachments": {},
   "cell_type": "markdown",
   "metadata": {},
   "source": [
    "# inference cost\n"
   ]
  },
  {
   "cell_type": "code",
   "execution_count": 21,
   "metadata": {},
   "outputs": [],
   "source": [
    "def CF_model_rec(allset, user_id_int):\n",
    "    \n",
    "    inner_user_id = allset.to_inner_uid(user_id_int)\n",
    "    print(inner_user_id)\n",
    "    neighbors = CF_model.get_neighbors(inner_user_id, k=10)\n",
    "\n",
    "    all_ratings = list(allset.all_ratings())\n",
    "    \n",
    "    target_user_ratings = [all_ratings[inner_user_id]]\n",
    "    target_user_items = [iid for (uid, iid, r) in target_user_ratings]\n",
    "    \n",
    "    neighbor_items = []\n",
    "    for neighbor in neighbors:\n",
    "        neighbor_ratings = [all_ratings[neighbor]]\n",
    "        for (uid, iid, r) in neighbor_ratings:\n",
    "            neighbor_items.append(iid)\n",
    "\n",
    "    unwatched_items = set(neighbor_items) - set(target_user_items)\n",
    "    # Predict the ratings for all unwatched items for the given user\n",
    "    predictions = [CF_model.predict(user_id_int, allset.to_raw_iid(iid)).est for iid in unwatched_items]\n",
    "\n",
    "    predictions_with_item_id = list(zip(unwatched_items, predictions))\n",
    "    predictions_with_item_id.sort(key=lambda x: x[1], reverse=True)\n",
    "    recommended_items = [(allset.to_raw_iid(item_id), score) for (item_id, score) in predictions_with_item_id]\n",
    "    return recommended_items"
   ]
  },
  {
   "cell_type": "code",
   "execution_count": 31,
   "metadata": {},
   "outputs": [
    {
     "name": "stdout",
     "output_type": "stream",
     "text": [
      "1\n",
      "[('the+hobbit+an+unexpected+journey+2012', 4.4), ('for+the+bible+tells+me+so+2007', 4.0), ('look_+up+in+the+sky+the+amazing+story+of+superman+2006', 4.0), ('110901+-+september+11+2002', 4.0), ('papadopoulos++sons+2012', 4.0), ('paperman+2012', 4.0), ('dead+ahead+the+exxon+valdez+disaster+', 4.0), ('hit+man+1972', 4.0), ('the+goonies+1985', 4.0), ('harry+potter+and+the+deathly+hallows+part+2+2011', 3.8333333333333335)]\n",
      "CF Model trainning time:  0:00:00.042038\n"
     ]
    }
   ],
   "source": [
    "train_data = pd.read_csv(\"rating_dict.csv\")\n",
    "all_df = train_data\n",
    "reader = Reader(rating_scale=(1, 5))\n",
    "all_data = Dataset.load_from_df(all_df[[\"user\", \"movie\", \"rating\"]], reader)\n",
    "allset = all_data.build_full_trainset()\n",
    "\n",
    "start_time = datetime.now()\n",
    "\n",
    "rec = CF_model_rec(allset, 100002)\n",
    "\n",
    "end_time = datetime.now()\n",
    "print(rec)\n",
    "print('CF Model trainning time: ', end_time - start_time)"
   ]
  },
  {
   "cell_type": "code",
   "execution_count": 25,
   "metadata": {},
   "outputs": [],
   "source": [
    "def SVD_model_rec(all_df, user_id_int):\n",
    "        ####### SVD model ##########\n",
    "    test_user = user_id_int\n",
    "    df = all_df\n",
    "    user_ids = df[\"user\"].unique().tolist()\n",
    "    user2user_encoded = {x: i for i, x in enumerate(user_ids)}\n",
    "    userencoded2user = {i: x for i, x in enumerate(user_ids)}\n",
    "\n",
    "    movie_ids = df[\"movie\"].unique().tolist()\n",
    "    movie2movie_encoded = {x: i for i, x in enumerate(movie_ids)}\n",
    "    movie_encoded2movie = {i: x for i, x in enumerate(movie_ids)}\n",
    "\n",
    "    df[\"user\"] = df[\"user\"].map(user2user_encoded)\n",
    "    df[\"movie_id\"] = df[\"movie\"].map(movie2movie_encoded)\n",
    "\n",
    "    df[\"rating\"] = df[\"rating\"].values.astype(np.float32)\n",
    "    movies_watched_by_user = df[df.user == test_user]\n",
    "\n",
    "    # Get movie_id of movies_not_watched\n",
    "    movies_not_watched = df[~df[\"movie\"].isin(movies_watched_by_user.movie_id.values)][\"movie_id\"]\n",
    "    movies_not_watched = list(set(movies_not_watched).intersection(set(movie2movie_encoded.values())))\n",
    "    # Get user_id of the sample user\n",
    "    user_encoder = user2user_encoded.get(test_user)\n",
    "    # Let the model predict the rating of the movies in movies_not_watched\n",
    "    ratings = np.array([SVD_model.predict(test_user,movie_encoded2movie[i]).est for i in movies_not_watched])\n",
    "    # Get the top 20 movies\n",
    "    top_ratings_indices = ratings.argsort()[-20:][::-1]\n",
    "    recommended_movies = [(movie_encoded2movie.get(movies_not_watched[x]),ratings[x]) for x in top_ratings_indices]\n",
    "\n",
    "    recommend = []\n",
    "    for movie, score in recommended_movies:\n",
    "        recommend.append([movie, float(round(score))])\n",
    "\n",
    "    return recommend"
   ]
  },
  {
   "cell_type": "code",
   "execution_count": 30,
   "metadata": {},
   "outputs": [
    {
     "name": "stdout",
     "output_type": "stream",
     "text": [
      "[['the+shawshank+redemption+1994', 4.0], ['the+godfather+1972', 4.0], ['the+lord+of+the+rings+the+return+of+the+king+2003', 4.0], ['one+flew+over+the+cuckoos+nest+1975', 4.0], ['fight+club+1999', 4.0], ['pulp+fiction+1994', 4.0], ['goodfellas+1990', 4.0], ['the+lord+of+the+rings+the+fellowship+of+the+ring+2001', 4.0], ['the+lord+of+the+rings+the+two+towers+2002', 4.0], ['alien+1979', 4.0], ['monty+python+and+the+holy+grail+1975', 4.0], ['aliens+1986', 4.0], ['the+dark+knight+2008', 4.0], ['spirited+away+2001', 4.0], ['senna+2010', 4.0], ['seven+samurai+1954', 4.0], ['saving+private+ryan+1998', 4.0], ['wild+china+2008', 4.0], ['the+ascent+1977', 4.0], ['the+good_+the+bad+and+the+ugly+1966', 4.0]]\n",
      "SVD Model trainning time:  0:00:00.971410\n"
     ]
    }
   ],
   "source": [
    "train_data = pd.read_csv(\"../ratings.csv\",index_col=False).reindex(columns=[\"movie\", \"user_id\", \"rating\"]).rename(columns={\"user_id\":\"user\"})\n",
    "all_df = train_data\n",
    "\n",
    "start_time = datetime.now()\n",
    "\n",
    "rec = SVD_model_rec(all_df, 100002)\n",
    "\n",
    "end_time = datetime.now()\n",
    "print(rec)\n",
    "print('SVD Model trainning time: ', end_time - start_time)"
   ]
  },
  {
   "attachments": {},
   "cell_type": "markdown",
   "metadata": {},
   "source": [
    "# file size\n"
   ]
  },
  {
   "cell_type": "code",
   "execution_count": 32,
   "metadata": {},
   "outputs": [
    {
     "name": "stdout",
     "output_type": "stream",
     "text": [
      "CF model size: 5002059951 bytes\n",
      "SVD model size: 35381999 bytes\n"
     ]
    }
   ],
   "source": [
    "CF_size = os.path.getsize('25k-user-based-algo.dump')\n",
    "\n",
    "SVD_size = os.path.getsize('SVD_model_subset.dump')\n",
    "\n",
    "print(\"CF model size: {} bytes\".format(CF_size))\n",
    "print(\"SVD model size: {} bytes\".format(SVD_size))"
   ]
  }
 ],
 "metadata": {
  "kernelspec": {
   "display_name": "aiengenv",
   "language": "python",
   "name": "python3"
  },
  "language_info": {
   "codemirror_mode": {
    "name": "ipython",
    "version": 3
   },
   "file_extension": ".py",
   "mimetype": "text/x-python",
   "name": "python",
   "nbconvert_exporter": "python",
   "pygments_lexer": "ipython3",
   "version": "3.8.16"
  },
  "orig_nbformat": 4,
  "vscode": {
   "interpreter": {
    "hash": "0c2edf5ebe6629ba8a767c7a65ee2c1553d011a240b9576419cb84c50fd37772"
   }
  }
 },
 "nbformat": 4,
 "nbformat_minor": 2
}
