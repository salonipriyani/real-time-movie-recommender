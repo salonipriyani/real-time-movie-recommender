{
 "cells": [
  {
   "cell_type": "markdown",
   "id": "3cd7957c-04ec-4a81-8662-7e03ac8a6ad2",
   "metadata": {},
   "source": [
    "### import dependencies"
   ]
  },
  {
   "cell_type": "code",
   "execution_count": 1,
   "id": "370fb421-cce2-4cb7-b04d-5fddbfbff8ec",
   "metadata": {
    "tags": []
   },
   "outputs": [],
   "source": [
    "import ast\n",
    "import os\n",
    "import random\n",
    "import pandas as pd\n",
    "import numpy as np\n",
    "from surprise import Reader, Dataset\n",
    "from surprise import KNNWithMeans\n",
    "from collections import defaultdict\n",
    "from tqdm import tqdm"
   ]
  },
  {
   "cell_type": "markdown",
   "id": "1a1137ef-73ef-4905-ba64-9fcd868d0534",
   "metadata": {},
   "source": [
    "### environment variables"
   ]
  },
  {
   "cell_type": "code",
   "execution_count": 2,
   "id": "3b5b023b-47ca-49fe-a745-1a9977e1b1b1",
   "metadata": {
    "tags": []
   },
   "outputs": [],
   "source": [
    "DATA_DIR = \"/home/rwilson2/data\""
   ]
  },
  {
   "cell_type": "markdown",
   "id": "54d412af-afd1-4027-859b-d7e6f4c7b988",
   "metadata": {},
   "source": [
    "### explore rating data"
   ]
  },
  {
   "cell_type": "code",
   "execution_count": 3,
   "id": "ab571d00-c7b1-4e1f-baa8-65eec6300074",
   "metadata": {
    "tags": []
   },
   "outputs": [],
   "source": [
    "with open(os.path.join(DATA_DIR, \"ratings.csv\"), 'r') as f:\n",
    "    rating_lines = f.read().split('\\n')"
   ]
  },
  {
   "cell_type": "code",
   "execution_count": 4,
   "id": "141d63c2-c3ec-45bc-bb3d-ade27199bde0",
   "metadata": {
    "tags": []
   },
   "outputs": [
    {
     "data": {
      "text/plain": [
       "[',user_id,movie,rating',\n",
       " '0,523475,prison+break+the+final+break+2009,4',\n",
       " '1,906340,the+warlords+2007,3',\n",
       " '2,474539,the+unknown+woman+2011,4',\n",
       " '3,7253,the+count+of+monte+cristo+1998,4',\n",
       " '4,913783,kill+bill+vol.+2+2004,4',\n",
       " '5,938396,under+our+skin+2008,3',\n",
       " '6,626411,the+well+1951,4',\n",
       " '7,386186,the+twilight+people+1972,3',\n",
       " '8,182972,robot++frank+2012,4',\n",
       " '9,869570,6ixtynin9+1999,4',\n",
       " '10,876529,oceans+2009,4',\n",
       " '11,158115,spirited+away+2001,4',\n",
       " '12,938323,paradise+faith+2012,3',\n",
       " '13,645343,baggage+claim+2013,3',\n",
       " '14,46905,a+chinese+ghost+story+1987,3',\n",
       " '15,926449,marwencol+2010,4',\n",
       " '16,672542,loaded+guns+1975,4',\n",
       " '17,208250,floating+weeds+1959,4',\n",
       " '18,413940,saving+private+ryan+1998,3']"
      ]
     },
     "execution_count": 4,
     "metadata": {},
     "output_type": "execute_result"
    }
   ],
   "source": [
    "rating_lines[:20]"
   ]
  },
  {
   "cell_type": "code",
   "execution_count": 5,
   "id": "c7cd1554-d85d-4477-9575-6aa7b0065986",
   "metadata": {
    "tags": []
   },
   "outputs": [],
   "source": [
    "with open(os.path.join(DATA_DIR, \"ratings_grouped_by_user.csv\"), 'r') as f:\n",
    "    rating_group = f.read().split('\\n')"
   ]
  },
  {
   "cell_type": "code",
   "execution_count": 6,
   "id": "98c59289-7b4e-44a6-9af8-1bd11cbaa83c",
   "metadata": {
    "tags": []
   },
   "outputs": [
    {
     "data": {
      "text/html": [
       "<div>\n",
       "<style scoped>\n",
       "    .dataframe tbody tr th:only-of-type {\n",
       "        vertical-align: middle;\n",
       "    }\n",
       "\n",
       "    .dataframe tbody tr th {\n",
       "        vertical-align: top;\n",
       "    }\n",
       "\n",
       "    .dataframe thead th {\n",
       "        text-align: right;\n",
       "    }\n",
       "</style>\n",
       "<table border=\"1\" class=\"dataframe\">\n",
       "  <thead>\n",
       "    <tr style=\"text-align: right;\">\n",
       "      <th></th>\n",
       "      <th>Unnamed: 0</th>\n",
       "      <th>user_id</th>\n",
       "      <th>temp</th>\n",
       "    </tr>\n",
       "  </thead>\n",
       "  <tbody>\n",
       "    <tr>\n",
       "      <th>0</th>\n",
       "      <td>0</td>\n",
       "      <td>10</td>\n",
       "      <td>[{'total+recall+1990': '4'}]</td>\n",
       "    </tr>\n",
       "    <tr>\n",
       "      <th>1</th>\n",
       "      <td>1</td>\n",
       "      <td>10000</td>\n",
       "      <td>[{'3+ninjas+kick+back+1994': '3'}]</td>\n",
       "    </tr>\n",
       "    <tr>\n",
       "      <th>2</th>\n",
       "      <td>2</td>\n",
       "      <td>100002</td>\n",
       "      <td>[{'monsters_+inc.+2001': '4'}, {'more+about+th...</td>\n",
       "    </tr>\n",
       "    <tr>\n",
       "      <th>3</th>\n",
       "      <td>3</td>\n",
       "      <td>100003</td>\n",
       "      <td>[{'shutter+island+2010': '3'}]</td>\n",
       "    </tr>\n",
       "    <tr>\n",
       "      <th>4</th>\n",
       "      <td>4</td>\n",
       "      <td>100004</td>\n",
       "      <td>[{'bambi+1942': '4'}]</td>\n",
       "    </tr>\n",
       "    <tr>\n",
       "      <th>...</th>\n",
       "      <td>...</td>\n",
       "      <td>...</td>\n",
       "      <td>...</td>\n",
       "    </tr>\n",
       "    <tr>\n",
       "      <th>516015</th>\n",
       "      <td>516015</td>\n",
       "      <td>99994</td>\n",
       "      <td>[{'fast_+cheap++out+of+control+1997': '4'}, {'...</td>\n",
       "    </tr>\n",
       "    <tr>\n",
       "      <th>516016</th>\n",
       "      <td>516016</td>\n",
       "      <td>99995</td>\n",
       "      <td>[{'peter+pan+1953': '3'}]</td>\n",
       "    </tr>\n",
       "    <tr>\n",
       "      <th>516017</th>\n",
       "      <td>516017</td>\n",
       "      <td>99996</td>\n",
       "      <td>[{'a+summers+tale+1996': '3'}, {'thor+the+dark...</td>\n",
       "    </tr>\n",
       "    <tr>\n",
       "      <th>516018</th>\n",
       "      <td>516018</td>\n",
       "      <td>99997</td>\n",
       "      <td>[{'the+hireling+1973': '4'}, {'deception+2008'...</td>\n",
       "    </tr>\n",
       "    <tr>\n",
       "      <th>516019</th>\n",
       "      <td>516019</td>\n",
       "      <td>99999</td>\n",
       "      <td>[{'mission+to+mir+1997': '3'}]</td>\n",
       "    </tr>\n",
       "  </tbody>\n",
       "</table>\n",
       "<p>516020 rows × 3 columns</p>\n",
       "</div>"
      ],
      "text/plain": [
       "        Unnamed: 0  user_id                                               temp\n",
       "0                0       10                       [{'total+recall+1990': '4'}]\n",
       "1                1    10000                 [{'3+ninjas+kick+back+1994': '3'}]\n",
       "2                2   100002  [{'monsters_+inc.+2001': '4'}, {'more+about+th...\n",
       "3                3   100003                     [{'shutter+island+2010': '3'}]\n",
       "4                4   100004                              [{'bambi+1942': '4'}]\n",
       "...            ...      ...                                                ...\n",
       "516015      516015    99994  [{'fast_+cheap++out+of+control+1997': '4'}, {'...\n",
       "516016      516016    99995                          [{'peter+pan+1953': '3'}]\n",
       "516017      516017    99996  [{'a+summers+tale+1996': '3'}, {'thor+the+dark...\n",
       "516018      516018    99997  [{'the+hireling+1973': '4'}, {'deception+2008'...\n",
       "516019      516019    99999                     [{'mission+to+mir+1997': '3'}]\n",
       "\n",
       "[516020 rows x 3 columns]"
      ]
     },
     "execution_count": 6,
     "metadata": {},
     "output_type": "execute_result"
    }
   ],
   "source": [
    "pd.read_csv(os.path.join(DATA_DIR, \"ratings_grouped_by_user.csv\"),)"
   ]
  },
  {
   "cell_type": "markdown",
   "id": "9cc73cb7-fd21-4f73-aa67-78a17d72e746",
   "metadata": {},
   "source": [
    "### Model Goal\n",
    "From milestone writeup\n",
    "* `<time>,<userid>,recommendation request <server>, status <200 for success>, result: <recommendations>, <responsetime>` – the user considers watching a movie and a list of recommendations is requested; the recommendations provided by your service are included (or an error message if your service did not provide a valid response)\n",
    "\n",
    "So we might assume the input is the user id only. Return the most recommended movies (with highest prediction ratings)"
   ]
  },
  {
   "cell_type": "code",
   "execution_count": 7,
   "id": "b9298e0b-1b45-4994-a2e7-e44f7a96eb2e",
   "metadata": {
    "tags": []
   },
   "outputs": [],
   "source": [
    "# csv to rating dict\n",
    "grouped_rating_csv = os.path.join(DATA_DIR, \"ratings_grouped_by_user.csv\")\n",
    "with open(grouped_rating_csv, 'r') as f:\n",
    "    grouped_lines = f.read().split('\\n')"
   ]
  },
  {
   "cell_type": "code",
   "execution_count": 8,
   "id": "b3fb97a5-9d75-45af-827e-ac5799c7753c",
   "metadata": {
    "tags": []
   },
   "outputs": [],
   "source": [
    "grouped_df = pd.read_csv(grouped_rating_csv, index_col=\"Unnamed: 0\")"
   ]
  },
  {
   "cell_type": "code",
   "execution_count": 9,
   "id": "22038813-67a9-41de-a654-a2dcea7eeb03",
   "metadata": {
    "tags": []
   },
   "outputs": [
    {
     "data": {
      "text/html": [
       "<div>\n",
       "<style scoped>\n",
       "    .dataframe tbody tr th:only-of-type {\n",
       "        vertical-align: middle;\n",
       "    }\n",
       "\n",
       "    .dataframe tbody tr th {\n",
       "        vertical-align: top;\n",
       "    }\n",
       "\n",
       "    .dataframe thead th {\n",
       "        text-align: right;\n",
       "    }\n",
       "</style>\n",
       "<table border=\"1\" class=\"dataframe\">\n",
       "  <thead>\n",
       "    <tr style=\"text-align: right;\">\n",
       "      <th></th>\n",
       "      <th>user_id</th>\n",
       "      <th>temp</th>\n",
       "    </tr>\n",
       "  </thead>\n",
       "  <tbody>\n",
       "    <tr>\n",
       "      <th>0</th>\n",
       "      <td>10</td>\n",
       "      <td>[{'total+recall+1990': '4'}]</td>\n",
       "    </tr>\n",
       "    <tr>\n",
       "      <th>1</th>\n",
       "      <td>10000</td>\n",
       "      <td>[{'3+ninjas+kick+back+1994': '3'}]</td>\n",
       "    </tr>\n",
       "    <tr>\n",
       "      <th>2</th>\n",
       "      <td>100002</td>\n",
       "      <td>[{'monsters_+inc.+2001': '4'}, {'more+about+th...</td>\n",
       "    </tr>\n",
       "    <tr>\n",
       "      <th>3</th>\n",
       "      <td>100003</td>\n",
       "      <td>[{'shutter+island+2010': '3'}]</td>\n",
       "    </tr>\n",
       "    <tr>\n",
       "      <th>4</th>\n",
       "      <td>100004</td>\n",
       "      <td>[{'bambi+1942': '4'}]</td>\n",
       "    </tr>\n",
       "  </tbody>\n",
       "</table>\n",
       "</div>"
      ],
      "text/plain": [
       "   user_id                                               temp\n",
       "0       10                       [{'total+recall+1990': '4'}]\n",
       "1    10000                 [{'3+ninjas+kick+back+1994': '3'}]\n",
       "2   100002  [{'monsters_+inc.+2001': '4'}, {'more+about+th...\n",
       "3   100003                     [{'shutter+island+2010': '3'}]\n",
       "4   100004                              [{'bambi+1942': '4'}]"
      ]
     },
     "execution_count": 9,
     "metadata": {},
     "output_type": "execute_result"
    }
   ],
   "source": [
    "grouped_df.head()"
   ]
  },
  {
   "cell_type": "code",
   "execution_count": 10,
   "id": "2383e437-b552-42a1-9753-672b976e2b0e",
   "metadata": {
    "tags": []
   },
   "outputs": [],
   "source": [
    "N_ratings = len(grouped_df)\n",
    "CUT_OFF = 25000"
   ]
  },
  {
   "cell_type": "code",
   "execution_count": 11,
   "id": "f1158a4a-41f0-4254-a480-1a85afd79793",
   "metadata": {
    "tags": []
   },
   "outputs": [],
   "source": [
    "with open(\"rating_dict.csv\", 'w') as f:\n",
    "    f.write(\"movie,user,rating\\n\")"
   ]
  },
  {
   "cell_type": "code",
   "execution_count": 12,
   "id": "454253f2-d578-4ed3-abad-4127d3599d38",
   "metadata": {
    "tags": []
   },
   "outputs": [
    {
     "name": "stderr",
     "output_type": "stream",
     "text": [
      "100%|████████████████████████████████████████████████████████████████████████████| 24999/24999 [00:00<00:00, 31375.50it/s]\n"
     ]
    }
   ],
   "source": [
    "with open(\"rating_dict.csv\",'a') as f:\n",
    "    for i in tqdm(range(1, CUT_OFF)):\n",
    "        user_id = grouped_df['user_id'][i]\n",
    "        movies = ast.literal_eval(grouped_df['temp'][i])\n",
    "        for mv in movies:\n",
    "            for key in mv:\n",
    "                f.write(f\"{key},{user_id},{mv[key]}\\n\")"
   ]
  },
  {
   "cell_type": "code",
   "execution_count": 13,
   "id": "368d017c-eece-4862-b769-a490d6a04c26",
   "metadata": {
    "tags": []
   },
   "outputs": [],
   "source": [
    "ratings_df = pd.read_csv('rating_dict.csv')"
   ]
  },
  {
   "cell_type": "code",
   "execution_count": 14,
   "id": "5994726f-7734-4135-83f9-af3b5d6d4d24",
   "metadata": {
    "tags": []
   },
   "outputs": [
    {
     "data": {
      "text/html": [
       "<div>\n",
       "<style scoped>\n",
       "    .dataframe tbody tr th:only-of-type {\n",
       "        vertical-align: middle;\n",
       "    }\n",
       "\n",
       "    .dataframe tbody tr th {\n",
       "        vertical-align: top;\n",
       "    }\n",
       "\n",
       "    .dataframe thead th {\n",
       "        text-align: right;\n",
       "    }\n",
       "</style>\n",
       "<table border=\"1\" class=\"dataframe\">\n",
       "  <thead>\n",
       "    <tr style=\"text-align: right;\">\n",
       "      <th></th>\n",
       "      <th>movie</th>\n",
       "      <th>user</th>\n",
       "      <th>rating</th>\n",
       "    </tr>\n",
       "  </thead>\n",
       "  <tbody>\n",
       "    <tr>\n",
       "      <th>0</th>\n",
       "      <td>3+ninjas+kick+back+1994</td>\n",
       "      <td>10000</td>\n",
       "      <td>3</td>\n",
       "    </tr>\n",
       "    <tr>\n",
       "      <th>1</th>\n",
       "      <td>monsters_+inc.+2001</td>\n",
       "      <td>100002</td>\n",
       "      <td>4</td>\n",
       "    </tr>\n",
       "    <tr>\n",
       "      <th>2</th>\n",
       "      <td>more+about+the+children+of+noisy+village+1987</td>\n",
       "      <td>100002</td>\n",
       "      <td>4</td>\n",
       "    </tr>\n",
       "    <tr>\n",
       "      <th>3</th>\n",
       "      <td>shutter+island+2010</td>\n",
       "      <td>100003</td>\n",
       "      <td>3</td>\n",
       "    </tr>\n",
       "    <tr>\n",
       "      <th>4</th>\n",
       "      <td>bambi+1942</td>\n",
       "      <td>100004</td>\n",
       "      <td>4</td>\n",
       "    </tr>\n",
       "  </tbody>\n",
       "</table>\n",
       "</div>"
      ],
      "text/plain": [
       "                                           movie    user  rating\n",
       "0                        3+ninjas+kick+back+1994   10000       3\n",
       "1                            monsters_+inc.+2001  100002       4\n",
       "2  more+about+the+children+of+noisy+village+1987  100002       4\n",
       "3                            shutter+island+2010  100003       3\n",
       "4                                     bambi+1942  100004       4"
      ]
     },
     "execution_count": 14,
     "metadata": {},
     "output_type": "execute_result"
    }
   ],
   "source": [
    "ratings_df.head()"
   ]
  },
  {
   "cell_type": "code",
   "execution_count": 15,
   "id": "7c8fffe4-723b-4b5e-a4d0-1a9963866cb6",
   "metadata": {
    "tags": []
   },
   "outputs": [],
   "source": [
    "reader = Reader(rating_scale=(1, 5))\n",
    "data = Dataset.load_from_df(ratings_df[[\"user\", \"movie\", \"rating\"]], reader)"
   ]
  },
  {
   "cell_type": "code",
   "execution_count": 16,
   "id": "e7fe4fef-3231-4cfc-9de8-f7cb9b4f14ae",
   "metadata": {
    "tags": []
   },
   "outputs": [],
   "source": [
    "# To use user-based cosine similarity\n",
    "sim_options = {\n",
    "    \"name\": \"cosine\",\n",
    "    \"user_based\": True,\n",
    "}\n",
    "algo = KNNWithMeans(sim_options=sim_options)"
   ]
  },
  {
   "cell_type": "code",
   "execution_count": 17,
   "id": "409a8b12-de53-44a8-b7b9-36871692d814",
   "metadata": {
    "tags": []
   },
   "outputs": [],
   "source": [
    "# Train in Batch (Didn't work)\n",
    "# BS = 20000\n",
    "# N_BATCH = N_ratings // BS + 1\n",
    "# for i in range(1):\n",
    "#     start = i * BS\n",
    "#     end = start + BS\n",
    "#     print(f'Training use batch #{i+1}')\n",
    "#     batch_train_data = data.df.iloc[start:end]\n",
    "#     trainingSet = Dataset.load_from_df(batch_train_data[[\"user\", \"movie\", \"rating\"]], reader).build_full_trainset()\n",
    "#     algo.fit(trainingSet)"
   ]
  },
  {
   "cell_type": "code",
   "execution_count": 18,
   "id": "e73420ff-23c4-4737-b584-d48d241a38c9",
   "metadata": {
    "tags": []
   },
   "outputs": [
    {
     "name": "stdout",
     "output_type": "stream",
     "text": [
      "Computing the cosine similarity matrix...\n",
      "Done computing similarity matrix.\n"
     ]
    },
    {
     "data": {
      "text/plain": [
       "<surprise.prediction_algorithms.knns.KNNWithMeans at 0x7f14818399d0>"
      ]
     },
     "execution_count": 18,
     "metadata": {},
     "output_type": "execute_result"
    }
   ],
   "source": [
    "# Train\n",
    "trainingSet = data.build_full_trainset()\n",
    "algo.fit(trainingSet)"
   ]
  },
  {
   "cell_type": "code",
   "execution_count": 21,
   "id": "a0c1ac13-ccd0-41c6-ba52-24a49e6dd0ab",
   "metadata": {
    "tags": []
   },
   "outputs": [
    {
     "name": "stdout",
     "output_type": "stream",
     "text": [
      "4.055050505050505\n"
     ]
    }
   ],
   "source": [
    "# Predict\n",
    "prediction = algo.predict(100004, \"bambi+1942\")\n",
    "print (prediction.est)"
   ]
  },
  {
   "cell_type": "code",
   "execution_count": 24,
   "id": "0811334e-755c-456e-aeb4-63e91eee658a",
   "metadata": {
    "tags": []
   },
   "outputs": [
    {
     "name": "stdout",
     "output_type": "stream",
     "text": [
      "['monsters_+inc.+2001', 'more+about+the+children+of+noisy+village+1987']\n"
     ]
    }
   ],
   "source": [
    "# Get the remapped user ID\n",
    "test_user = 100002\n",
    "inner_user_id = trainingSet.to_inner_uid(test_user)\n",
    "\n",
    "# Get the list of all items for the given user\n",
    "test_user_items = [iid for (uid, iid, r) in trainingSet.all_ratings() if uid == inner_user_id]\n",
    "\n",
    "# Predict the ratings for all items for the given user\n",
    "predictions = [algo.predict(inner_user_id, iid).est for iid in test_user_items]\n",
    "\n",
    "# Sort the items based on their predicted ratings\n",
    "predictions_with_item_id = list(zip(test_user_items, predictions))\n",
    "predictions_with_item_id.sort(key=lambda x: x[1], reverse=True)\n",
    "\n",
    "# Map the remapped item IDs back to their original names\n",
    "recommended_items = [trainingSet.to_raw_iid(item_id) for (item_id, _) in predictions_with_item_id]\n",
    "print(recommended_items)\n"
   ]
  },
  {
   "cell_type": "code",
   "execution_count": 25,
   "id": "679014fd-f7ba-403b-a849-ab07dde3df10",
   "metadata": {
    "tags": []
   },
   "outputs": [
    {
     "name": "stdout",
     "output_type": "stream",
     "text": [
      "Recommended items for user 100002 :\n",
      "\n",
      "\n",
      "\t like+father_+like+son+2013 : 5\n",
      "\t the+hobbit+an+unexpected+journey+2012 : 4.4\n",
      "\t ashura+2005 : 4.4\n",
      "\t outsourced+2006 : 4.4\n",
      "\t death+of+a+nation+-+the+timor+conspiracy+1994 : 4.0\n",
      "\t kings+and+queen+2004 : 4.0\n",
      "\t i+saw+the+sun+2009 : 4.0\n",
      "\t destruction+force+1977 : 4.0\n",
      "\t the+lord+of+the+rings+the+two+towers+2002 : 4.0\n",
      "\t the+high+cost+of+living+2010 : 3.666666666666667\n",
      "\t trainspotting+1996 : 3.666666666666667\n",
      "\t conversation+piece+1974 : 3.5\n",
      "\t guest+from+the+future+1984 : 3.4\n",
      "\t the+triumph+of+love+2001 : 3.0\n",
      "\t grave+of+the+fireflies+1988 : 3.0\n"
     ]
    }
   ],
   "source": [
    "# Get the remapped user ID\n",
    "test_user = 100002\n",
    "inner_user_id = trainingSet.to_inner_uid(test_user)\n",
    "\n",
    "# Get the nearest neighbors of the given user\n",
    "neighbors = algo.get_neighbors(inner_user_id, k=10)\n",
    "\n",
    "all_ratings = defaultdict(list)\n",
    "for (user_id, movie_id, rating) in trainingSet.all_ratings():\n",
    "    all_ratings[user_id].append((movie_id, rating))\n",
    "\n",
    "# Get the items that the neighbors have rated but the target user has not\n",
    "target_user_ratings = all_ratings[inner_user_id]\n",
    "target_user_items = [iid for (iid, r) in target_user_ratings]\n",
    "\n",
    "neighbor_items = []\n",
    "for neighbor in neighbors:\n",
    "    neighbor_ratings = all_ratings[neighbor]\n",
    "    for (iid, r) in neighbor_ratings:\n",
    "        neighbor_items.append(iid)\n",
    "\n",
    "unwatched_items = set(neighbor_items) - set(target_user_items)\n",
    "\n",
    "# Predict the ratings for all unwatched items for the given user\n",
    "# predictions = [algo.predict(inner_user_id, iid).est for iid in unwatched_items]\n",
    "predictions = [algo.predict(test_user, trainingSet.to_raw_iid(iid)).est for iid in unwatched_items]\n",
    "\n",
    "\n",
    "# Sort the items based on their predicted ratings\n",
    "predictions_with_item_id = list(zip(unwatched_items, predictions))\n",
    "predictions_with_item_id.sort(key=lambda x: x[1], reverse=True)\n",
    "\n",
    "# Map the remapped item IDs back to their original names\n",
    "# recommended_items = [trainingSet.to_raw_iid(item_id) for (item_id, _) in predictions_with_item_id]\n",
    "# print('\\n'.join(recommended_items))\n",
    "\n",
    "recommended_items = [(trainingSet.to_raw_iid(item_id), score) for (item_id, score) in predictions_with_item_id]\n",
    "print(\"Recommended items for user\", test_user, \":\")\n",
    "print(\"\\n\")\n",
    "for item, score in recommended_items:\n",
    "    print(\"\\t\", item, \":\", score)\n"
   ]
  },
  {
   "cell_type": "markdown",
   "id": "2b6c66dc-70bc-4520-b9e2-a2192415705b",
   "metadata": {},
   "source": [
    "### Save and load recommendation algo"
   ]
  },
  {
   "cell_type": "code",
   "execution_count": 26,
   "id": "d2e266f4-dabc-4cef-9bc1-5576bdd442c6",
   "metadata": {
    "tags": []
   },
   "outputs": [],
   "source": [
    "from surprise import dump\n",
    "\n",
    "# Save the algorithm to disk\n",
    "dump.dump('25k-user-based-algo.dump', algo=algo)"
   ]
  },
  {
   "cell_type": "markdown",
   "id": "c01a1e5c-5731-4a95-b985-3e6558275584",
   "metadata": {},
   "source": [
    "### Load and use (for deployment team)"
   ]
  },
  {
   "cell_type": "code",
   "execution_count": 29,
   "id": "ae3301ad-2bac-4e8c-994a-1c4e56a6c3f3",
   "metadata": {},
   "outputs": [
    {
     "name": "stdout",
     "output_type": "stream",
     "text": [
      "/home/ziangz/code/team12-movie-recommendation/models/25k-user-based-algo.dump\n"
     ]
    }
   ],
   "source": [
    "from surprise import dump\n",
    "\n",
    "# Save the algorithm to disk\n",
    "MODEL_DIR = os.path.abspath('25k-user-based-algo.dump')\n",
    "\n",
    "_, user_algo = dump.load(MODEL_DIR)\n",
    "print(MODEL_DIR)"
   ]
  },
  {
   "cell_type": "code",
   "execution_count": 30,
   "id": "bb2924f4-f7c5-4760-b4b9-047b003d08bf",
   "metadata": {
    "tags": []
   },
   "outputs": [
    {
     "name": "stdout",
     "output_type": "stream",
     "text": [
      "Recommended items for user 100002 :\n",
      "\n",
      "\n",
      "\t like+father_+like+son+2013 : 5\n",
      "\t the+hobbit+an+unexpected+journey+2012 : 4.4\n",
      "\t ashura+2005 : 4.4\n",
      "\t outsourced+2006 : 4.4\n",
      "\t death+of+a+nation+-+the+timor+conspiracy+1994 : 4.0\n",
      "\t kings+and+queen+2004 : 4.0\n",
      "\t i+saw+the+sun+2009 : 4.0\n",
      "\t destruction+force+1977 : 4.0\n",
      "\t the+lord+of+the+rings+the+two+towers+2002 : 4.0\n",
      "\t the+high+cost+of+living+2010 : 3.666666666666667\n",
      "\t trainspotting+1996 : 3.666666666666667\n",
      "\t conversation+piece+1974 : 3.5\n",
      "\t guest+from+the+future+1984 : 3.4\n",
      "\t the+triumph+of+love+2001 : 3.0\n",
      "\t grave+of+the+fireflies+1988 : 3.0\n"
     ]
    }
   ],
   "source": [
    "# Get the remapped user ID\n",
    "test_user = 100002\n",
    "inner_user_id = trainingSet.to_inner_uid(test_user)\n",
    "\n",
    "# Get the nearest neighbors of the given user\n",
    "neighbors = algo.get_neighbors(inner_user_id, k=10)\n",
    "\n",
    "all_ratings = defaultdict(list)\n",
    "for (user_id, movie_id, rating) in trainingSet.all_ratings():\n",
    "    all_ratings[user_id].append((movie_id, rating))\n",
    "\n",
    "# Get the items that the neighbors have rated but the target user has not\n",
    "target_user_ratings = all_ratings[inner_user_id]\n",
    "target_user_items = [iid for (iid, r) in target_user_ratings]\n",
    "\n",
    "neighbor_items = []\n",
    "for neighbor in neighbors:\n",
    "    neighbor_ratings = all_ratings[neighbor]\n",
    "    for (iid, r) in neighbor_ratings:\n",
    "        neighbor_items.append(iid)\n",
    "\n",
    "unwatched_items = set(neighbor_items) - set(target_user_items)\n",
    "\n",
    "# Predict the ratings for all unwatched items for the given user\n",
    "predictions = [user_algo.predict(test_user, trainingSet.to_raw_iid(iid)).est for iid in unwatched_items]\n",
    "\n",
    "\n",
    "# Sort the items based on their predicted ratings\n",
    "predictions_with_item_id = list(zip(unwatched_items, predictions))\n",
    "predictions_with_item_id.sort(key=lambda x: x[1], reverse=True)\n",
    "\n",
    "# Map the remapped item IDs back to their original names\n",
    "\n",
    "recommended_items = [(trainingSet.to_raw_iid(item_id), score) for (item_id, score) in predictions_with_item_id]\n",
    "print(\"Recommended items for user\", test_user, \":\")\n",
    "print(\"\\n\")\n",
    "for item, score in recommended_items:\n",
    "    print(\"\\t\", item, \":\", score)"
   ]
  },
  {
   "cell_type": "markdown",
   "id": "d7a1a032-74f4-4d21-8f32-bbc0607fe197",
   "metadata": {},
   "source": [
    "### Reference\n",
    "\n",
    "https://github.com/ckaestne/seai/blob/S2020/recitations/06_Collaborative_Filtering.ipynb"
   ]
  },
  {
   "cell_type": "markdown",
   "id": "ea90d24b-628e-4537-960f-804614822a12",
   "metadata": {},
   "source": [
    "### Out-of-set (OOS) User handling"
   ]
  },
  {
   "cell_type": "code",
   "execution_count": 31,
   "id": "45a400a9-0fbc-474a-84ca-4dfda4b94373",
   "metadata": {
    "tags": []
   },
   "outputs": [],
   "source": [
    "# with open('../data/movies_clean.csv','r') as f:\n",
    "all_movies = pd.read_csv('../data/movies_clean.csv')"
   ]
  },
  {
   "cell_type": "code",
   "execution_count": 68,
   "id": "4213f872-0bf3-412e-b95b-41b441bef314",
   "metadata": {
    "tags": []
   },
   "outputs": [],
   "source": [
    "# get top 100 popular movies\n",
    "top_100_pop = all_movies.sort_values(by='popularity', ascending=False)[:100]['id'].to_list()\n",
    "with open('../data/top_imdb.txt','w') as f:\n",
    "    f.write('\\n'.join(top_100_pop))"
   ]
  },
  {
   "cell_type": "code",
   "execution_count": 59,
   "id": "4c08a0b0-3825-4b0f-81a0-4d367e89e030",
   "metadata": {
    "tags": []
   },
   "outputs": [],
   "source": [
    "def generate_movies_OOS(user_id, top_list, n=15):\n",
    "    \n",
    "    random.seed(user_id)\n",
    "    \n",
    "    selected_movies = random.sample(top_list, n)\n",
    "    scores = [round(random.uniform(3, 5), 4) for _ in range(len(selected_movies))]\n",
    "\n",
    "    # create a dictionary to store the movie names and scores\n",
    "    movie_scores = dict(zip(selected_movies, scores))\n",
    "\n",
    "    sorted_movies = sorted(movie_scores.items(), key=lambda x: x[1], reverse=True)\n",
    "    \n",
    "    return sorted_movies"
   ]
  },
  {
   "cell_type": "code",
   "execution_count": 67,
   "id": "f3e8292c-9c57-43af-ae2d-9641f274eab8",
   "metadata": {
    "tags": []
   },
   "outputs": [
    {
     "name": "stdout",
     "output_type": "stream",
     "text": [
      "Recommended items for user 1000001 :\n",
      "\n",
      "\n",
      "\t the+lord+of+the+rings+the+fellowship+of+the+ring+2001 : 4.9408\n",
      "\t john+wick+2014 : 4.8825\n",
      "\t once+upon+a+time+in+america+1984 : 4.8581\n",
      "\t pirates+of+the+caribbean+on+stranger+tides+2011 : 4.7646\n",
      "\t casino+royale+2006 : 4.4652\n",
      "\t the+fifth+element+1997 : 4.3222\n",
      "\t frozen+2013 : 4.2243\n",
      "\t the+amazing+spider-man+2012 : 4.0644\n",
      "\t annabelle+2014 : 3.8954\n",
      "\t rise+of+the+planet+of+the+apes+2011 : 3.8198\n",
      "\t the+jungle+book+1967 : 3.6071\n",
      "\t the+imitation+game+2014 : 3.4785\n",
      "\t the+dark+knight+2008 : 3.4094\n",
      "\t the+hunger+games+catching+fire+2013 : 3.355\n",
      "\t harry+potter+and+the+philosophers+stone+2001 : 3.1012\n"
     ]
    }
   ],
   "source": [
    "oos_movies = generate_movies_OOS(test_user, top_100_pop)\n",
    "print(\"Recommended items for user\", test_user, \":\")\n",
    "print(\"\\n\")\n",
    "for item, score in oos_movies:\n",
    "    print(\"\\t\", item, \":\", score)"
   ]
  },
  {
   "cell_type": "markdown",
   "id": "6f6d9181-41bf-4d85-b69b-232a57c70da1",
   "metadata": {},
   "source": [
    "### Full handling (deployment)"
   ]
  },
  {
   "cell_type": "code",
   "execution_count": 2,
   "id": "2d34042b-8740-4d8b-810c-e267e995829f",
   "metadata": {
    "tags": []
   },
   "outputs": [
    {
     "name": "stdout",
     "output_type": "stream",
     "text": [
      "/home/ziangz/code/team12-movie-recommendation/models/25k-user-based-algo.dump\n"
     ]
    }
   ],
   "source": [
    "from surprise import dump\n",
    "\n",
    "# Save the algorithm to disk\n",
    "MODEL_DIR = os.path.abspath('25k-user-based-algo.dump')\n",
    "\n",
    "with open('/home/ziangz/code/team12-movie-recommendation/data/top_imdb.txt','r') as f:\n",
    "    top_100_pop = [movie for movie in f.read().split('\\n') if movie]\n",
    "\n",
    "_, user_algo = dump.load(MODEL_DIR)\n",
    "print(MODEL_DIR)"
   ]
  },
  {
   "cell_type": "code",
   "execution_count": 4,
   "id": "125f9999-87f2-4db2-8f29-ce29bc6d7326",
   "metadata": {
    "tags": []
   },
   "outputs": [],
   "source": [
    "def generate_movies_OOS(user_id, top_list, n=15):\n",
    "    \n",
    "    # same random for every user\n",
    "    random.seed(user_id) \n",
    "    \n",
    "    selected_movies = random.sample(top_list, n)\n",
    "    scores = [round(random.uniform(3, 5), 4) for _ in range(len(selected_movies))]\n",
    "\n",
    "    # create a dictionary to store the movie names and scores\n",
    "    movie_scores = dict(zip(selected_movies, scores))\n",
    "\n",
    "    sorted_movies = sorted(movie_scores.items(), key=lambda x: x[1], reverse=True)\n",
    "    \n",
    "    return sorted_movies"
   ]
  },
  {
   "cell_type": "code",
   "execution_count": 5,
   "id": "7f877206-4df2-4dae-8908-2685b63d4a76",
   "metadata": {
    "tags": []
   },
   "outputs": [
    {
     "name": "stdout",
     "output_type": "stream",
     "text": [
      "Recommended items for user 99991132 :\n",
      "\n",
      "\n",
      "\t star+wars+1977 : 4.855\n",
      "\t the+godfather+1972 : 4.8028\n",
      "\t the+godfather+part+ii+1974 : 4.5488\n",
      "\t childs+play+3+1991 : 4.5087\n",
      "\t grown+ups+2010 : 4.33\n",
      "\t forrest+gump+1994 : 4.0804\n",
      "\t the+purge+2013 : 3.9185\n",
      "\t guardians+of+the+galaxy+2014 : 3.8721\n",
      "\t dark+skies+2013 : 3.7923\n",
      "\t lucy+2014 : 3.7252\n",
      "\t the+hunger+games+mockingjay+-+part+1+2014 : 3.6293\n",
      "\t the+imitation+game+2014 : 3.1147\n",
      "\t fury+2014 : 3.1104\n",
      "\t pirates+of+the+caribbean+dead+mans+chest+2006 : 3.0451\n",
      "\t dilwale+dulhania+le+jayenge+1995 : 3.008\n"
     ]
    }
   ],
   "source": [
    "# Get the remapped user ID \n",
    "test_user = 99991132 # unknow user\n",
    "try:\n",
    "    inner_user_id = trainingSet.to_inner_uid(test_user)\n",
    "\n",
    "    # Get the nearest neighbors of the given user\n",
    "    neighbors = algo.get_neighbors(inner_user_id, k=10)\n",
    "\n",
    "    all_ratings = defaultdict(list)\n",
    "    for (user_id, movie_id, rating) in trainingSet.all_ratings():\n",
    "        all_ratings[user_id].append((movie_id, rating))\n",
    "\n",
    "    # Get the items that the neighbors have rated but the target user has not\n",
    "    target_user_ratings = all_ratings[inner_user_id]\n",
    "    target_user_items = [iid for (iid, r) in target_user_ratings]\n",
    "\n",
    "    neighbor_items = []\n",
    "    for neighbor in neighbors:\n",
    "        neighbor_ratings = all_ratings[neighbor]\n",
    "        for (iid, r) in neighbor_ratings:\n",
    "            neighbor_items.append(iid)\n",
    "\n",
    "    unwatched_items = set(neighbor_items) - set(target_user_items)\n",
    "\n",
    "    # Predict the ratings for all unwatched items for the given user\n",
    "    predictions = [user_algo.predict(test_user, trainingSet.to_raw_iid(iid)).est for iid in unwatched_items]\n",
    "\n",
    "\n",
    "    # Sort the items based on their predicted ratings\n",
    "    predictions_with_item_id = list(zip(unwatched_items, predictions))\n",
    "    predictions_with_item_id.sort(key=lambda x: x[1], reverse=True)\n",
    "\n",
    "    # Map the remapped item IDs back to their original names\n",
    "\n",
    "    recommended_items = [(trainingSet.to_raw_iid(item_id), score) for (item_id, score) in predictions_with_item_id]\n",
    "    print(\"Recommended items for user\", test_user, \":\")\n",
    "    print(\"\\n\")\n",
    "    for item, score in recommended_items:\n",
    "        print(\"\\t\", item, \":\", score)\n",
    "except:\n",
    "    oos_movies = generate_movies_OOS(test_user, top_100_pop)\n",
    "    print(\"Recommended items for user\", test_user, \":\")\n",
    "    print(\"\\n\")\n",
    "    for item, score in oos_movies:\n",
    "        print(\"\\t\", item, \":\", score)"
   ]
  },
  {
   "cell_type": "code",
   "execution_count": null,
   "id": "4f28b117-31bc-4210-9238-a6561c791bac",
   "metadata": {},
   "outputs": [],
   "source": []
  }
 ],
 "metadata": {
  "kernelspec": {
   "display_name": "Python 3 (ipykernel)",
   "language": "python",
   "name": "python3"
  },
  "language_info": {
   "codemirror_mode": {
    "name": "ipython",
    "version": 3
   },
   "file_extension": ".py",
   "mimetype": "text/x-python",
   "name": "python",
   "nbconvert_exporter": "python",
   "pygments_lexer": "ipython3",
   "version": "3.9.16"
  }
 },
 "nbformat": 4,
 "nbformat_minor": 5
}
